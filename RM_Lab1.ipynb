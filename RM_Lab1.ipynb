{
 "cells": [
  {
   "cell_type": "code",
   "execution_count": 4,
   "id": "ee61aa2f-94e5-4176-812e-6465a21e707f",
   "metadata": {},
   "outputs": [],
   "source": [
    "import numpy as np"
   ]
  },
  {
   "cell_type": "code",
   "execution_count": 22,
   "id": "80ba3ee4-f20d-44a0-9daa-02f21d1ea52f",
   "metadata": {},
   "outputs": [],
   "source": [
    "def traditional_multiply_matrix(A, B):\n",
    "    result = np.zeros((A.shape[0], B.shape[1]))\n",
    "\n",
    "    k = A.shape[1]\n",
    "\n",
    "    for i in range(A.shape[0]):\n",
    "        for j in range(B.shape[1]):\n",
    "            sum_j = 0\n",
    "            for k in range(A.shape[1]):\n",
    "                sum_j += A[i, k] * B[k, j]\n",
    "\n",
    "            result[i, j] = sum_j\n",
    "\n",
    "    return result"
   ]
  },
  {
   "cell_type": "code",
   "execution_count": 3,
   "id": "3f1cd269-8558-4b6d-b6f7-ba08127a2446",
   "metadata": {},
   "outputs": [],
   "source": [
    "def multiply_matrix(A, B, l):\n",
    "    try:\n",
    "        if A.shape[1] != B.shape[0]:\n",
    "            raise ValueError(\n",
    "                \"Liczba kolumn pierwszej macierzy musi być równa liczbie wierszy drugiej macierzy\"\n",
    "            )\n",
    "\n",
    "        if (\n",
    "            A.shape[0] < 2**l\n",
    "            and A.shape[1] < 2**l\n",
    "            and B.shape[0] < 2**l\n",
    "            and B.shape[1] < 2**l\n",
    "        ):\n",
    "            return traditional_multiply_matrix(A, B)\n",
    "    except ValueError as e:\n",
    "        print(f\"Błąd: {e}\")"
   ]
  },
  {
   "cell_type": "code",
   "execution_count": 29,
   "id": "39c50774",
   "metadata": {},
   "outputs": [],
   "source": [
    "def split_matrix(matrix):\n",
    "    n = matrix.shape[0] // 2\n",
    "    return matrix[:n, :n], matrix[:n, n:], matrix[n:, :n], matrix[n:, n:]\n",
    "\n",
    "\n",
    "def strassen_multiply_matrix(A, B):\n",
    "    global dod\n",
    "    global od\n",
    "    global mno\n",
    "    if len(A) == 1:\n",
    "        mno += 1\n",
    "        return A * B\n",
    "\n",
    "    A11, A12, A21, A22 = split_matrix(A)\n",
    "    B11, B12, B21, B22 = split_matrix(B)\n",
    "\n",
    "    P1 = strassen_multiply_matrix(A11 + A22, B11 + B22)\n",
    "    P2 = strassen_multiply_matrix(A21 + A22, B11)\n",
    "    P3 = strassen_multiply_matrix(A11, B12 - B22)\n",
    "    P4 = strassen_multiply_matrix(A22, B21 - B11)\n",
    "    P5 = strassen_multiply_matrix(A11 + A12, B22)\n",
    "    P6 = strassen_multiply_matrix(A21 - A11, B11 + B12)\n",
    "    P7 = strassen_multiply_matrix(A12 - A22, B21 + B22)\n",
    "    mno += 7\n",
    "    dod += 6\n",
    "    od += 4\n",
    "    C11 = P1 + P4 - P5 + P7\n",
    "    C12 = P3 + P5\n",
    "    C21 = P2 + P4\n",
    "    C22 = P1 + P3 - P2 + P6\n",
    "    dod += 6\n",
    "    od += 2\n",
    "\n",
    "    C = np.vstack((np.hstack((C11, C12)), np.hstack((C21, C22))))\n",
    "\n",
    "    return C"
   ]
  },
  {
   "cell_type": "code",
   "execution_count": null,
   "id": "ce4d67e7",
   "metadata": {},
   "outputs": [
    {
     "ename": "KeyboardInterrupt",
     "evalue": "",
     "output_type": "error",
     "traceback": [
      "\u001b[31m---------------------------------------------------------------------------\u001b[39m",
      "\u001b[31mKeyboardInterrupt\u001b[39m                         Traceback (most recent call last)",
      "\u001b[36mCell\u001b[39m\u001b[36m \u001b[39m\u001b[32mIn[51]\u001b[39m\u001b[32m, line 8\u001b[39m\n\u001b[32m      5\u001b[39m \u001b[38;5;28;01mfor\u001b[39;00m k \u001b[38;5;129;01min\u001b[39;00m \u001b[38;5;28mrange\u001b[39m(\u001b[32m2\u001b[39m, \u001b[32m17\u001b[39m):\n\u001b[32m      7\u001b[39m     start = datetime.datetime.now()\n\u001b[32m----> \u001b[39m\u001b[32m8\u001b[39m     \u001b[43mstrassen_multiply_matrix\u001b[49m\u001b[43m(\u001b[49m\n\u001b[32m      9\u001b[39m \u001b[43m        \u001b[49m\u001b[43mnp\u001b[49m\u001b[43m.\u001b[49m\u001b[43mrandom\u001b[49m\u001b[43m.\u001b[49m\u001b[43mrandint\u001b[49m\u001b[43m(\u001b[49m\u001b[32;43m10\u001b[39;49m\u001b[43m,\u001b[49m\u001b[43m \u001b[49m\u001b[43msize\u001b[49m\u001b[43m=\u001b[49m\u001b[43m(\u001b[49m\u001b[32;43m2\u001b[39;49m\u001b[43m*\u001b[49m\u001b[43m*\u001b[49m\u001b[43mk\u001b[49m\u001b[43m,\u001b[49m\u001b[43m \u001b[49m\u001b[32;43m2\u001b[39;49m\u001b[43m*\u001b[49m\u001b[43m*\u001b[49m\u001b[43mk\u001b[49m\u001b[43m)\u001b[49m\u001b[43m)\u001b[49m\u001b[43m,\u001b[49m\n\u001b[32m     10\u001b[39m \u001b[43m        \u001b[49m\u001b[43mnp\u001b[49m\u001b[43m.\u001b[49m\u001b[43mrandom\u001b[49m\u001b[43m.\u001b[49m\u001b[43mrandint\u001b[49m\u001b[43m(\u001b[49m\u001b[32;43m10\u001b[39;49m\u001b[43m,\u001b[49m\u001b[43m \u001b[49m\u001b[43msize\u001b[49m\u001b[43m=\u001b[49m\u001b[43m(\u001b[49m\u001b[32;43m2\u001b[39;49m\u001b[43m*\u001b[49m\u001b[43m*\u001b[49m\u001b[43mk\u001b[49m\u001b[43m,\u001b[49m\u001b[43m \u001b[49m\u001b[32;43m2\u001b[39;49m\u001b[43m*\u001b[49m\u001b[43m*\u001b[49m\u001b[43mk\u001b[49m\u001b[43m)\u001b[49m\u001b[43m)\u001b[49m\u001b[43m,\u001b[49m\n\u001b[32m     11\u001b[39m \u001b[43m    \u001b[49m\u001b[43m)\u001b[49m\n\u001b[32m     13\u001b[39m     times.append((datetime.datetime.now() - start).total_seconds())\n\u001b[32m     14\u001b[39m     \u001b[38;5;28;01mwith\u001b[39;00m \u001b[38;5;28mopen\u001b[39m(\u001b[33m\"\u001b[39m\u001b[33mtimes.txt\u001b[39m\u001b[33m\"\u001b[39m, \u001b[33m\"\u001b[39m\u001b[33mw+\u001b[39m\u001b[33m\"\u001b[39m) \u001b[38;5;28;01mas\u001b[39;00m f:\n",
      "\u001b[36mCell\u001b[39m\u001b[36m \u001b[39m\u001b[32mIn[29]\u001b[39m\u001b[32m, line 17\u001b[39m, in \u001b[36mstrassen_multiply_matrix\u001b[39m\u001b[34m(A, B)\u001b[39m\n\u001b[32m     14\u001b[39m A11, A12, A21, A22 = split_matrix(A)\n\u001b[32m     15\u001b[39m B11, B12, B21, B22 = split_matrix(B)\n\u001b[32m---> \u001b[39m\u001b[32m17\u001b[39m P1 = \u001b[43mstrassen_multiply_matrix\u001b[49m\u001b[43m(\u001b[49m\u001b[43mA11\u001b[49m\u001b[43m \u001b[49m\u001b[43m+\u001b[49m\u001b[43m \u001b[49m\u001b[43mA22\u001b[49m\u001b[43m,\u001b[49m\u001b[43m \u001b[49m\u001b[43mB11\u001b[49m\u001b[43m \u001b[49m\u001b[43m+\u001b[49m\u001b[43m \u001b[49m\u001b[43mB22\u001b[49m\u001b[43m)\u001b[49m\n\u001b[32m     18\u001b[39m P2 = strassen_multiply_matrix(A21 + A22, B11)\n\u001b[32m     19\u001b[39m P3 = strassen_multiply_matrix(A11, B12 - B22)\n",
      "\u001b[36mCell\u001b[39m\u001b[36m \u001b[39m\u001b[32mIn[29]\u001b[39m\u001b[32m, line 22\u001b[39m, in \u001b[36mstrassen_multiply_matrix\u001b[39m\u001b[34m(A, B)\u001b[39m\n\u001b[32m     20\u001b[39m P4 = strassen_multiply_matrix(A22, B21 - B11)\n\u001b[32m     21\u001b[39m P5 = strassen_multiply_matrix(A11 + A12, B22)\n\u001b[32m---> \u001b[39m\u001b[32m22\u001b[39m P6 = \u001b[43mstrassen_multiply_matrix\u001b[49m\u001b[43m(\u001b[49m\u001b[43mA21\u001b[49m\u001b[43m \u001b[49m\u001b[43m-\u001b[49m\u001b[43m \u001b[49m\u001b[43mA11\u001b[49m\u001b[43m,\u001b[49m\u001b[43m \u001b[49m\u001b[43mB11\u001b[49m\u001b[43m \u001b[49m\u001b[43m+\u001b[49m\u001b[43m \u001b[49m\u001b[43mB12\u001b[49m\u001b[43m)\u001b[49m\n\u001b[32m     23\u001b[39m P7 = strassen_multiply_matrix(A12 - A22, B21 + B22)\n\u001b[32m     24\u001b[39m mno += \u001b[32m7\u001b[39m\n",
      "\u001b[36mCell\u001b[39m\u001b[36m \u001b[39m\u001b[32mIn[29]\u001b[39m\u001b[32m, line 18\u001b[39m, in \u001b[36mstrassen_multiply_matrix\u001b[39m\u001b[34m(A, B)\u001b[39m\n\u001b[32m     15\u001b[39m B11, B12, B21, B22 = split_matrix(B)\n\u001b[32m     17\u001b[39m P1 = strassen_multiply_matrix(A11 + A22, B11 + B22)\n\u001b[32m---> \u001b[39m\u001b[32m18\u001b[39m P2 = \u001b[43mstrassen_multiply_matrix\u001b[49m\u001b[43m(\u001b[49m\u001b[43mA21\u001b[49m\u001b[43m \u001b[49m\u001b[43m+\u001b[49m\u001b[43m \u001b[49m\u001b[43mA22\u001b[49m\u001b[43m,\u001b[49m\u001b[43m \u001b[49m\u001b[43mB11\u001b[49m\u001b[43m)\u001b[49m\n\u001b[32m     19\u001b[39m P3 = strassen_multiply_matrix(A11, B12 - B22)\n\u001b[32m     20\u001b[39m P4 = strassen_multiply_matrix(A22, B21 - B11)\n",
      "\u001b[36mCell\u001b[39m\u001b[36m \u001b[39m\u001b[32mIn[29]\u001b[39m\u001b[32m, line 21\u001b[39m, in \u001b[36mstrassen_multiply_matrix\u001b[39m\u001b[34m(A, B)\u001b[39m\n\u001b[32m     19\u001b[39m P3 = strassen_multiply_matrix(A11, B12 - B22)\n\u001b[32m     20\u001b[39m P4 = strassen_multiply_matrix(A22, B21 - B11)\n\u001b[32m---> \u001b[39m\u001b[32m21\u001b[39m P5 = \u001b[43mstrassen_multiply_matrix\u001b[49m\u001b[43m(\u001b[49m\u001b[43mA11\u001b[49m\u001b[43m \u001b[49m\u001b[43m+\u001b[49m\u001b[43m \u001b[49m\u001b[43mA12\u001b[49m\u001b[43m,\u001b[49m\u001b[43m \u001b[49m\u001b[43mB22\u001b[49m\u001b[43m)\u001b[49m\n\u001b[32m     22\u001b[39m P6 = strassen_multiply_matrix(A21 - A11, B11 + B12)\n\u001b[32m     23\u001b[39m P7 = strassen_multiply_matrix(A12 - A22, B21 + B22)\n",
      "\u001b[36mCell\u001b[39m\u001b[36m \u001b[39m\u001b[32mIn[29]\u001b[39m\u001b[32m, line 18\u001b[39m, in \u001b[36mstrassen_multiply_matrix\u001b[39m\u001b[34m(A, B)\u001b[39m\n\u001b[32m     15\u001b[39m B11, B12, B21, B22 = split_matrix(B)\n\u001b[32m     17\u001b[39m P1 = strassen_multiply_matrix(A11 + A22, B11 + B22)\n\u001b[32m---> \u001b[39m\u001b[32m18\u001b[39m P2 = \u001b[43mstrassen_multiply_matrix\u001b[49m\u001b[43m(\u001b[49m\u001b[43mA21\u001b[49m\u001b[43m \u001b[49m\u001b[43m+\u001b[49m\u001b[43m \u001b[49m\u001b[43mA22\u001b[49m\u001b[43m,\u001b[49m\u001b[43m \u001b[49m\u001b[43mB11\u001b[49m\u001b[43m)\u001b[49m\n\u001b[32m     19\u001b[39m P3 = strassen_multiply_matrix(A11, B12 - B22)\n\u001b[32m     20\u001b[39m P4 = strassen_multiply_matrix(A22, B21 - B11)\n",
      "\u001b[36mCell\u001b[39m\u001b[36m \u001b[39m\u001b[32mIn[29]\u001b[39m\u001b[32m, line 19\u001b[39m, in \u001b[36mstrassen_multiply_matrix\u001b[39m\u001b[34m(A, B)\u001b[39m\n\u001b[32m     17\u001b[39m P1 = strassen_multiply_matrix(A11 + A22, B11 + B22)\n\u001b[32m     18\u001b[39m P2 = strassen_multiply_matrix(A21 + A22, B11)\n\u001b[32m---> \u001b[39m\u001b[32m19\u001b[39m P3 = \u001b[43mstrassen_multiply_matrix\u001b[49m\u001b[43m(\u001b[49m\u001b[43mA11\u001b[49m\u001b[43m,\u001b[49m\u001b[43m \u001b[49m\u001b[43mB12\u001b[49m\u001b[43m \u001b[49m\u001b[43m-\u001b[49m\u001b[43m \u001b[49m\u001b[43mB22\u001b[49m\u001b[43m)\u001b[49m\n\u001b[32m     20\u001b[39m P4 = strassen_multiply_matrix(A22, B21 - B11)\n\u001b[32m     21\u001b[39m P5 = strassen_multiply_matrix(A11 + A12, B22)\n",
      "\u001b[36mCell\u001b[39m\u001b[36m \u001b[39m\u001b[32mIn[29]\u001b[39m\u001b[32m, line 17\u001b[39m, in \u001b[36mstrassen_multiply_matrix\u001b[39m\u001b[34m(A, B)\u001b[39m\n\u001b[32m     14\u001b[39m A11, A12, A21, A22 = split_matrix(A)\n\u001b[32m     15\u001b[39m B11, B12, B21, B22 = split_matrix(B)\n\u001b[32m---> \u001b[39m\u001b[32m17\u001b[39m P1 = \u001b[43mstrassen_multiply_matrix\u001b[49m\u001b[43m(\u001b[49m\u001b[43mA11\u001b[49m\u001b[43m \u001b[49m\u001b[43m+\u001b[49m\u001b[43m \u001b[49m\u001b[43mA22\u001b[49m\u001b[43m,\u001b[49m\u001b[43m \u001b[49m\u001b[43mB11\u001b[49m\u001b[43m \u001b[49m\u001b[43m+\u001b[49m\u001b[43m \u001b[49m\u001b[43mB22\u001b[49m\u001b[43m)\u001b[49m\n\u001b[32m     18\u001b[39m P2 = strassen_multiply_matrix(A21 + A22, B11)\n\u001b[32m     19\u001b[39m P3 = strassen_multiply_matrix(A11, B12 - B22)\n",
      "\u001b[36mCell\u001b[39m\u001b[36m \u001b[39m\u001b[32mIn[29]\u001b[39m\u001b[32m, line 17\u001b[39m, in \u001b[36mstrassen_multiply_matrix\u001b[39m\u001b[34m(A, B)\u001b[39m\n\u001b[32m     14\u001b[39m A11, A12, A21, A22 = split_matrix(A)\n\u001b[32m     15\u001b[39m B11, B12, B21, B22 = split_matrix(B)\n\u001b[32m---> \u001b[39m\u001b[32m17\u001b[39m P1 = \u001b[43mstrassen_multiply_matrix\u001b[49m\u001b[43m(\u001b[49m\u001b[43mA11\u001b[49m\u001b[43m \u001b[49m\u001b[43m+\u001b[49m\u001b[43m \u001b[49m\u001b[43mA22\u001b[49m\u001b[43m,\u001b[49m\u001b[43m \u001b[49m\u001b[43mB11\u001b[49m\u001b[43m \u001b[49m\u001b[43m+\u001b[49m\u001b[43m \u001b[49m\u001b[43mB22\u001b[49m\u001b[43m)\u001b[49m\n\u001b[32m     18\u001b[39m P2 = strassen_multiply_matrix(A21 + A22, B11)\n\u001b[32m     19\u001b[39m P3 = strassen_multiply_matrix(A11, B12 - B22)\n",
      "\u001b[36mCell\u001b[39m\u001b[36m \u001b[39m\u001b[32mIn[29]\u001b[39m\u001b[32m, line 18\u001b[39m, in \u001b[36mstrassen_multiply_matrix\u001b[39m\u001b[34m(A, B)\u001b[39m\n\u001b[32m     15\u001b[39m B11, B12, B21, B22 = split_matrix(B)\n\u001b[32m     17\u001b[39m P1 = strassen_multiply_matrix(A11 + A22, B11 + B22)\n\u001b[32m---> \u001b[39m\u001b[32m18\u001b[39m P2 = \u001b[43mstrassen_multiply_matrix\u001b[49m\u001b[43m(\u001b[49m\u001b[43mA21\u001b[49m\u001b[43m \u001b[49m\u001b[43m+\u001b[49m\u001b[43m \u001b[49m\u001b[43mA22\u001b[49m\u001b[43m,\u001b[49m\u001b[43m \u001b[49m\u001b[43mB11\u001b[49m\u001b[43m)\u001b[49m\n\u001b[32m     19\u001b[39m P3 = strassen_multiply_matrix(A11, B12 - B22)\n\u001b[32m     20\u001b[39m P4 = strassen_multiply_matrix(A22, B21 - B11)\n",
      "\u001b[36mCell\u001b[39m\u001b[36m \u001b[39m\u001b[32mIn[29]\u001b[39m\u001b[32m, line 34\u001b[39m, in \u001b[36mstrassen_multiply_matrix\u001b[39m\u001b[34m(A, B)\u001b[39m\n\u001b[32m     31\u001b[39m dod += \u001b[32m6\u001b[39m\n\u001b[32m     32\u001b[39m od += \u001b[32m2\u001b[39m\n\u001b[32m---> \u001b[39m\u001b[32m34\u001b[39m C = np.vstack((\u001b[43mnp\u001b[49m\u001b[43m.\u001b[49m\u001b[43mhstack\u001b[49m\u001b[43m(\u001b[49m\u001b[43m(\u001b[49m\u001b[43mC11\u001b[49m\u001b[43m,\u001b[49m\u001b[43m \u001b[49m\u001b[43mC12\u001b[49m\u001b[43m)\u001b[49m\u001b[43m)\u001b[49m, np.hstack((C21, C22))))\n\u001b[32m     36\u001b[39m \u001b[38;5;28;01mreturn\u001b[39;00m C\n",
      "\u001b[36mFile \u001b[39m\u001b[32mc:\\Users\\admin\\Desktop\\RachunekMacierzowy\\Rachunek_Macierzowy\\Menv\\Lib\\site-packages\\numpy\\_core\\shape_base.py:217\u001b[39m, in \u001b[36m_vhstack_dispatcher\u001b[39m\u001b[34m(tup, dtype, casting)\u001b[39m\n\u001b[32m    216\u001b[39m \u001b[38;5;28;01mdef\u001b[39;00m\u001b[38;5;250m \u001b[39m\u001b[34m_vhstack_dispatcher\u001b[39m(tup, *, dtype=\u001b[38;5;28;01mNone\u001b[39;00m, casting=\u001b[38;5;28;01mNone\u001b[39;00m):\n\u001b[32m--> \u001b[39m\u001b[32m217\u001b[39m     \u001b[38;5;28;01mreturn\u001b[39;00m \u001b[43m_arrays_for_stack_dispatcher\u001b[49m\u001b[43m(\u001b[49m\u001b[43mtup\u001b[49m\u001b[43m)\u001b[49m\n",
      "\u001b[36mFile \u001b[39m\u001b[32mc:\\Users\\admin\\Desktop\\RachunekMacierzowy\\Rachunek_Macierzowy\\Menv\\Lib\\site-packages\\numpy\\_core\\shape_base.py:208\u001b[39m, in \u001b[36m_arrays_for_stack_dispatcher\u001b[39m\u001b[34m(arrays)\u001b[39m\n\u001b[32m    204\u001b[39m     \u001b[38;5;28;01melse\u001b[39;00m:\n\u001b[32m    205\u001b[39m         \u001b[38;5;28;01mreturn\u001b[39;00m \u001b[38;5;28mtuple\u001b[39m(res)\n\u001b[32m--> \u001b[39m\u001b[32m208\u001b[39m \u001b[38;5;28;01mdef\u001b[39;00m\u001b[38;5;250m \u001b[39m\u001b[34m_arrays_for_stack_dispatcher\u001b[39m(arrays):\n\u001b[32m    209\u001b[39m     \u001b[38;5;28;01mif\u001b[39;00m \u001b[38;5;129;01mnot\u001b[39;00m \u001b[38;5;28mhasattr\u001b[39m(arrays, \u001b[33m\"\u001b[39m\u001b[33m__getitem__\u001b[39m\u001b[33m\"\u001b[39m):\n\u001b[32m    210\u001b[39m         \u001b[38;5;28;01mraise\u001b[39;00m \u001b[38;5;167;01mTypeError\u001b[39;00m(\u001b[33m'\u001b[39m\u001b[33marrays to stack must be passed as a \u001b[39m\u001b[33m\"\u001b[39m\u001b[33msequence\u001b[39m\u001b[33m\"\u001b[39m\u001b[33m type \u001b[39m\u001b[33m'\u001b[39m\n\u001b[32m    211\u001b[39m                         \u001b[33m'\u001b[39m\u001b[33msuch as list or tuple.\u001b[39m\u001b[33m'\u001b[39m)\n",
      "\u001b[31mKeyboardInterrupt\u001b[39m: "
     ]
    }
   ],
   "source": [
    "import datetime\n",
    "\n",
    "\n",
    "times = []\n",
    "for k in range(2, 17):\n",
    "\n",
    "    start = datetime.datetime.now()\n",
    "    strassen_multiply_matrix(\n",
    "        np.random.randint(10, size=(2**k, 2**k)),\n",
    "        np.random.randint(10, size=(2**k, 2**k)),\n",
    "    )\n",
    "\n",
    "    times.append((datetime.datetime.now() - start).total_seconds())\n",
    "    with open(\"times.txt\", \"w+\") as f:\n",
    "        for items in times:\n",
    "            f.write(\"%s\\n\" % items)"
   ]
  },
  {
   "cell_type": "code",
   "execution_count": 58,
   "id": "79a57623",
   "metadata": {},
   "outputs": [
    {
     "ename": "KeyboardInterrupt",
     "evalue": "",
     "output_type": "error",
     "traceback": [
      "\u001b[31m---------------------------------------------------------------------------\u001b[39m",
      "\u001b[31mKeyboardInterrupt\u001b[39m                         Traceback (most recent call last)",
      "\u001b[36mCell\u001b[39m\u001b[36m \u001b[39m\u001b[32mIn[58]\u001b[39m\u001b[32m, line 4\u001b[39m\n\u001b[32m      2\u001b[39m \u001b[38;5;28;01mfor\u001b[39;00m k \u001b[38;5;129;01min\u001b[39;00m \u001b[38;5;28mrange\u001b[39m(\u001b[32m2\u001b[39m, \u001b[32m16\u001b[39m):\n\u001b[32m      3\u001b[39m     dod = od = mno = \u001b[32m0\u001b[39m\n\u001b[32m----> \u001b[39m\u001b[32m4\u001b[39m     \u001b[43mstrassen_multiply_matrix\u001b[49m\u001b[43m(\u001b[49m\n\u001b[32m      5\u001b[39m \u001b[43m        \u001b[49m\u001b[43mnp\u001b[49m\u001b[43m.\u001b[49m\u001b[43mrandom\u001b[49m\u001b[43m.\u001b[49m\u001b[43mrandint\u001b[49m\u001b[43m(\u001b[49m\u001b[32;43m10\u001b[39;49m\u001b[43m,\u001b[49m\u001b[43m \u001b[49m\u001b[43msize\u001b[49m\u001b[43m=\u001b[49m\u001b[43m(\u001b[49m\u001b[32;43m2\u001b[39;49m\u001b[43m*\u001b[49m\u001b[43m*\u001b[49m\u001b[43mk\u001b[49m\u001b[43m,\u001b[49m\u001b[43m \u001b[49m\u001b[32;43m2\u001b[39;49m\u001b[43m*\u001b[49m\u001b[43m*\u001b[49m\u001b[43mk\u001b[49m\u001b[43m)\u001b[49m\u001b[43m)\u001b[49m\u001b[43m,\u001b[49m\n\u001b[32m      6\u001b[39m \u001b[43m        \u001b[49m\u001b[43mnp\u001b[49m\u001b[43m.\u001b[49m\u001b[43mrandom\u001b[49m\u001b[43m.\u001b[49m\u001b[43mrandint\u001b[49m\u001b[43m(\u001b[49m\u001b[32;43m10\u001b[39;49m\u001b[43m,\u001b[49m\u001b[43m \u001b[49m\u001b[43msize\u001b[49m\u001b[43m=\u001b[49m\u001b[43m(\u001b[49m\u001b[32;43m2\u001b[39;49m\u001b[43m*\u001b[49m\u001b[43m*\u001b[49m\u001b[43mk\u001b[49m\u001b[43m,\u001b[49m\u001b[43m \u001b[49m\u001b[32;43m2\u001b[39;49m\u001b[43m*\u001b[49m\u001b[43m*\u001b[49m\u001b[43mk\u001b[49m\u001b[43m)\u001b[49m\u001b[43m)\u001b[49m\u001b[43m,\u001b[49m\n\u001b[32m      7\u001b[39m \u001b[43m    \u001b[49m\u001b[43m)\u001b[49m\n\u001b[32m      8\u001b[39m     counts.append(dod)\n\u001b[32m      9\u001b[39m     counts.append(od)\n",
      "\u001b[36mCell\u001b[39m\u001b[36m \u001b[39m\u001b[32mIn[29]\u001b[39m\u001b[32m, line 19\u001b[39m, in \u001b[36mstrassen_multiply_matrix\u001b[39m\u001b[34m(A, B)\u001b[39m\n\u001b[32m     17\u001b[39m P1 = strassen_multiply_matrix(A11 + A22, B11 + B22)\n\u001b[32m     18\u001b[39m P2 = strassen_multiply_matrix(A21 + A22, B11)\n\u001b[32m---> \u001b[39m\u001b[32m19\u001b[39m P3 = \u001b[43mstrassen_multiply_matrix\u001b[49m\u001b[43m(\u001b[49m\u001b[43mA11\u001b[49m\u001b[43m,\u001b[49m\u001b[43m \u001b[49m\u001b[43mB12\u001b[49m\u001b[43m \u001b[49m\u001b[43m-\u001b[49m\u001b[43m \u001b[49m\u001b[43mB22\u001b[49m\u001b[43m)\u001b[49m\n\u001b[32m     20\u001b[39m P4 = strassen_multiply_matrix(A22, B21 - B11)\n\u001b[32m     21\u001b[39m P5 = strassen_multiply_matrix(A11 + A12, B22)\n",
      "\u001b[36mCell\u001b[39m\u001b[36m \u001b[39m\u001b[32mIn[29]\u001b[39m\u001b[32m, line 22\u001b[39m, in \u001b[36mstrassen_multiply_matrix\u001b[39m\u001b[34m(A, B)\u001b[39m\n\u001b[32m     20\u001b[39m P4 = strassen_multiply_matrix(A22, B21 - B11)\n\u001b[32m     21\u001b[39m P5 = strassen_multiply_matrix(A11 + A12, B22)\n\u001b[32m---> \u001b[39m\u001b[32m22\u001b[39m P6 = \u001b[43mstrassen_multiply_matrix\u001b[49m\u001b[43m(\u001b[49m\u001b[43mA21\u001b[49m\u001b[43m \u001b[49m\u001b[43m-\u001b[49m\u001b[43m \u001b[49m\u001b[43mA11\u001b[49m\u001b[43m,\u001b[49m\u001b[43m \u001b[49m\u001b[43mB11\u001b[49m\u001b[43m \u001b[49m\u001b[43m+\u001b[49m\u001b[43m \u001b[49m\u001b[43mB12\u001b[49m\u001b[43m)\u001b[49m\n\u001b[32m     23\u001b[39m P7 = strassen_multiply_matrix(A12 - A22, B21 + B22)\n\u001b[32m     24\u001b[39m mno += \u001b[32m7\u001b[39m\n",
      "\u001b[36mCell\u001b[39m\u001b[36m \u001b[39m\u001b[32mIn[29]\u001b[39m\u001b[32m, line 19\u001b[39m, in \u001b[36mstrassen_multiply_matrix\u001b[39m\u001b[34m(A, B)\u001b[39m\n\u001b[32m     17\u001b[39m P1 = strassen_multiply_matrix(A11 + A22, B11 + B22)\n\u001b[32m     18\u001b[39m P2 = strassen_multiply_matrix(A21 + A22, B11)\n\u001b[32m---> \u001b[39m\u001b[32m19\u001b[39m P3 = \u001b[43mstrassen_multiply_matrix\u001b[49m\u001b[43m(\u001b[49m\u001b[43mA11\u001b[49m\u001b[43m,\u001b[49m\u001b[43m \u001b[49m\u001b[43mB12\u001b[49m\u001b[43m \u001b[49m\u001b[43m-\u001b[49m\u001b[43m \u001b[49m\u001b[43mB22\u001b[49m\u001b[43m)\u001b[49m\n\u001b[32m     20\u001b[39m P4 = strassen_multiply_matrix(A22, B21 - B11)\n\u001b[32m     21\u001b[39m P5 = strassen_multiply_matrix(A11 + A12, B22)\n",
      "\u001b[36mCell\u001b[39m\u001b[36m \u001b[39m\u001b[32mIn[29]\u001b[39m\u001b[32m, line 19\u001b[39m, in \u001b[36mstrassen_multiply_matrix\u001b[39m\u001b[34m(A, B)\u001b[39m\n\u001b[32m     17\u001b[39m P1 = strassen_multiply_matrix(A11 + A22, B11 + B22)\n\u001b[32m     18\u001b[39m P2 = strassen_multiply_matrix(A21 + A22, B11)\n\u001b[32m---> \u001b[39m\u001b[32m19\u001b[39m P3 = \u001b[43mstrassen_multiply_matrix\u001b[49m\u001b[43m(\u001b[49m\u001b[43mA11\u001b[49m\u001b[43m,\u001b[49m\u001b[43m \u001b[49m\u001b[43mB12\u001b[49m\u001b[43m \u001b[49m\u001b[43m-\u001b[49m\u001b[43m \u001b[49m\u001b[43mB22\u001b[49m\u001b[43m)\u001b[49m\n\u001b[32m     20\u001b[39m P4 = strassen_multiply_matrix(A22, B21 - B11)\n\u001b[32m     21\u001b[39m P5 = strassen_multiply_matrix(A11 + A12, B22)\n",
      "\u001b[36mCell\u001b[39m\u001b[36m \u001b[39m\u001b[32mIn[29]\u001b[39m\u001b[32m, line 18\u001b[39m, in \u001b[36mstrassen_multiply_matrix\u001b[39m\u001b[34m(A, B)\u001b[39m\n\u001b[32m     15\u001b[39m B11, B12, B21, B22 = split_matrix(B)\n\u001b[32m     17\u001b[39m P1 = strassen_multiply_matrix(A11 + A22, B11 + B22)\n\u001b[32m---> \u001b[39m\u001b[32m18\u001b[39m P2 = \u001b[43mstrassen_multiply_matrix\u001b[49m\u001b[43m(\u001b[49m\u001b[43mA21\u001b[49m\u001b[43m \u001b[49m\u001b[43m+\u001b[49m\u001b[43m \u001b[49m\u001b[43mA22\u001b[49m\u001b[43m,\u001b[49m\u001b[43m \u001b[49m\u001b[43mB11\u001b[49m\u001b[43m)\u001b[49m\n\u001b[32m     19\u001b[39m P3 = strassen_multiply_matrix(A11, B12 - B22)\n\u001b[32m     20\u001b[39m P4 = strassen_multiply_matrix(A22, B21 - B11)\n",
      "\u001b[36mCell\u001b[39m\u001b[36m \u001b[39m\u001b[32mIn[29]\u001b[39m\u001b[32m, line 21\u001b[39m, in \u001b[36mstrassen_multiply_matrix\u001b[39m\u001b[34m(A, B)\u001b[39m\n\u001b[32m     19\u001b[39m P3 = strassen_multiply_matrix(A11, B12 - B22)\n\u001b[32m     20\u001b[39m P4 = strassen_multiply_matrix(A22, B21 - B11)\n\u001b[32m---> \u001b[39m\u001b[32m21\u001b[39m P5 = \u001b[43mstrassen_multiply_matrix\u001b[49m\u001b[43m(\u001b[49m\u001b[43mA11\u001b[49m\u001b[43m \u001b[49m\u001b[43m+\u001b[49m\u001b[43m \u001b[49m\u001b[43mA12\u001b[49m\u001b[43m,\u001b[49m\u001b[43m \u001b[49m\u001b[43mB22\u001b[49m\u001b[43m)\u001b[49m\n\u001b[32m     22\u001b[39m P6 = strassen_multiply_matrix(A21 - A11, B11 + B12)\n\u001b[32m     23\u001b[39m P7 = strassen_multiply_matrix(A12 - A22, B21 + B22)\n",
      "\u001b[36mCell\u001b[39m\u001b[36m \u001b[39m\u001b[32mIn[29]\u001b[39m\u001b[32m, line 22\u001b[39m, in \u001b[36mstrassen_multiply_matrix\u001b[39m\u001b[34m(A, B)\u001b[39m\n\u001b[32m     20\u001b[39m P4 = strassen_multiply_matrix(A22, B21 - B11)\n\u001b[32m     21\u001b[39m P5 = strassen_multiply_matrix(A11 + A12, B22)\n\u001b[32m---> \u001b[39m\u001b[32m22\u001b[39m P6 = \u001b[43mstrassen_multiply_matrix\u001b[49m\u001b[43m(\u001b[49m\u001b[43mA21\u001b[49m\u001b[43m \u001b[49m\u001b[43m-\u001b[49m\u001b[43m \u001b[49m\u001b[43mA11\u001b[49m\u001b[43m,\u001b[49m\u001b[43m \u001b[49m\u001b[43mB11\u001b[49m\u001b[43m \u001b[49m\u001b[43m+\u001b[49m\u001b[43m \u001b[49m\u001b[43mB12\u001b[49m\u001b[43m)\u001b[49m\n\u001b[32m     23\u001b[39m P7 = strassen_multiply_matrix(A12 - A22, B21 + B22)\n\u001b[32m     24\u001b[39m mno += \u001b[32m7\u001b[39m\n",
      "\u001b[36mCell\u001b[39m\u001b[36m \u001b[39m\u001b[32mIn[29]\u001b[39m\u001b[32m, line 34\u001b[39m, in \u001b[36mstrassen_multiply_matrix\u001b[39m\u001b[34m(A, B)\u001b[39m\n\u001b[32m     31\u001b[39m dod += \u001b[32m6\u001b[39m\n\u001b[32m     32\u001b[39m od += \u001b[32m2\u001b[39m\n\u001b[32m---> \u001b[39m\u001b[32m34\u001b[39m C = \u001b[43mnp\u001b[49m\u001b[43m.\u001b[49m\u001b[43mvstack\u001b[49m\u001b[43m(\u001b[49m\u001b[43m(\u001b[49m\u001b[43mnp\u001b[49m\u001b[43m.\u001b[49m\u001b[43mhstack\u001b[49m\u001b[43m(\u001b[49m\u001b[43m(\u001b[49m\u001b[43mC11\u001b[49m\u001b[43m,\u001b[49m\u001b[43m \u001b[49m\u001b[43mC12\u001b[49m\u001b[43m)\u001b[49m\u001b[43m)\u001b[49m\u001b[43m,\u001b[49m\u001b[43m \u001b[49m\u001b[43mnp\u001b[49m\u001b[43m.\u001b[49m\u001b[43mhstack\u001b[49m\u001b[43m(\u001b[49m\u001b[43m(\u001b[49m\u001b[43mC21\u001b[49m\u001b[43m,\u001b[49m\u001b[43m \u001b[49m\u001b[43mC22\u001b[49m\u001b[43m)\u001b[49m\u001b[43m)\u001b[49m\u001b[43m)\u001b[49m\u001b[43m)\u001b[49m\n\u001b[32m     36\u001b[39m \u001b[38;5;28;01mreturn\u001b[39;00m C\n",
      "\u001b[36mFile \u001b[39m\u001b[32mc:\\Users\\admin\\Desktop\\RachunekMacierzowy\\Rachunek_Macierzowy\\Menv\\Lib\\site-packages\\numpy\\_core\\shape_base.py:292\u001b[39m, in \u001b[36mvstack\u001b[39m\u001b[34m(tup, dtype, casting)\u001b[39m\n\u001b[32m    290\u001b[39m \u001b[38;5;28;01mif\u001b[39;00m \u001b[38;5;129;01mnot\u001b[39;00m \u001b[38;5;28misinstance\u001b[39m(arrs, \u001b[38;5;28mtuple\u001b[39m):\n\u001b[32m    291\u001b[39m     arrs = (arrs,)\n\u001b[32m--> \u001b[39m\u001b[32m292\u001b[39m \u001b[38;5;28;01mreturn\u001b[39;00m \u001b[43m_nx\u001b[49m\u001b[43m.\u001b[49m\u001b[43mconcatenate\u001b[49m\u001b[43m(\u001b[49m\u001b[43marrs\u001b[49m\u001b[43m,\u001b[49m\u001b[43m \u001b[49m\u001b[32;43m0\u001b[39;49m\u001b[43m,\u001b[49m\u001b[43m \u001b[49m\u001b[43mdtype\u001b[49m\u001b[43m=\u001b[49m\u001b[43mdtype\u001b[49m\u001b[43m,\u001b[49m\u001b[43m \u001b[49m\u001b[43mcasting\u001b[49m\u001b[43m=\u001b[49m\u001b[43mcasting\u001b[49m\u001b[43m)\u001b[49m\n",
      "\u001b[31mKeyboardInterrupt\u001b[39m: "
     ]
    }
   ],
   "source": [
    "counts = []\n",
    "for k in range(2, 16):\n",
    "    dod = od = mno = 0\n",
    "    strassen_multiply_matrix(\n",
    "        np.random.randint(10, size=(2**k, 2**k)),\n",
    "        np.random.randint(10, size=(2**k, 2**k)),\n",
    "    )\n",
    "    counts.append(dod)\n",
    "    counts.append(od)\n",
    "    counts.append(mno)\n",
    "\n",
    "    with open(\"counts.txt\", \"w+\") as f:\n",
    "        for items in counts:\n",
    "            f.write(\"%s\\n\" % items)"
   ]
  },
  {
   "cell_type": "code",
   "execution_count": null,
   "id": "42e82bc6",
   "metadata": {},
   "outputs": [
    {
     "name": "stdout",
     "output_type": "stream",
     "text": [
      "['[96,', '48,', '105]', '[684,', '342,', '742]', '[4800,', '2400,', '5201]', '[33612,', '16806,', '36414]', '[235296,', '117648,', '254905]', '[1647084,', '823542,', '1784342]']\n"
     ]
    }
   ],
   "source": [
    "import matplotlib.pyplot as plt\n",
    "\n",
    "\n",
    "lines = []\n",
    "with open(\"counts.txt\") as file:\n",
    "    for line in file:\n",
    "        for word in line.split():\n",
    "            lines.append(word)\n",
    "\n",
    "\n",
    "print(lines)\n",
    "# plt.xlabel(\"2^n - size of matrix\")\n",
    "# plt.ylabel(\"Time difference in seconds\")\n",
    "# plt.plot(list(range(2, 17)), times)\n",
    "# plt.show()"
   ]
  },
  {
   "cell_type": "markdown",
   "id": "011592aa-4355-409f-a739-06fd4645694a",
   "metadata": {},
   "source": [
    "## Tests\n"
   ]
  },
  {
   "cell_type": "code",
   "execution_count": 24,
   "id": "96dc5ab4-458d-46ef-b781-172e4ba21abc",
   "metadata": {},
   "outputs": [
    {
     "data": {
      "text/plain": [
       "array([[1, 3],\n",
       "       [2, 2]])"
      ]
     },
     "execution_count": 24,
     "metadata": {},
     "output_type": "execute_result"
    }
   ],
   "source": [
    "A = np.array([[1, 3], [2, 2]])\n",
    "A"
   ]
  },
  {
   "cell_type": "code",
   "execution_count": 25,
   "id": "30e37148-9615-4b0a-88a0-9a166c014f68",
   "metadata": {},
   "outputs": [
    {
     "data": {
      "text/plain": [
       "array([[2, 2],\n",
       "       [6, 3]])"
      ]
     },
     "execution_count": 25,
     "metadata": {},
     "output_type": "execute_result"
    }
   ],
   "source": [
    "B = np.array([[2, 2], [6, 3]])\n",
    "B"
   ]
  },
  {
   "cell_type": "code",
   "execution_count": null,
   "id": "5c3171ef-ba25-4142-aa90-15396d2b53fd",
   "metadata": {},
   "outputs": [
    {
     "name": "stdout",
     "output_type": "stream",
     "text": [
      "[[20. 11.]\n",
      " [16. 10.]]\n",
      "[[20 11]\n",
      " [16 10]]\n"
     ]
    }
   ],
   "source": [
    "print(traditional_multiply_matrix(A, B))\n",
    "print(strassen_multiply_matrix(A, B))"
   ]
  },
  {
   "cell_type": "code",
   "execution_count": null,
   "id": "0c94a8f1-8db1-4cfc-a070-e74ff5f9908e",
   "metadata": {},
   "outputs": [
    {
     "data": {
      "text/plain": [
       "array([[20., 11.],\n",
       "       [16., 10.]])"
      ]
     },
     "execution_count": 25,
     "metadata": {},
     "output_type": "execute_result"
    }
   ],
   "source": [
    "multiply_matrix(A, B, 2)"
   ]
  },
  {
   "cell_type": "code",
   "execution_count": null,
   "id": "fc8c7123-04b6-46bf-908e-a49dfc5a48bb",
   "metadata": {},
   "outputs": [
    {
     "data": {
      "text/plain": [
       "array([[1, 2]])"
      ]
     },
     "execution_count": 34,
     "metadata": {},
     "output_type": "execute_result"
    }
   ],
   "source": [
    "C = np.array([[1, 2]])\n",
    "C"
   ]
  },
  {
   "cell_type": "code",
   "execution_count": null,
   "id": "02eb57a4-f874-47d6-b378-06c7b4f5f3d1",
   "metadata": {},
   "outputs": [
    {
     "name": "stdout",
     "output_type": "stream",
     "text": [
      "Błąd: Liczba kolumn pierwszej macierzy musi być równa liczbie wierszy drugiej macierzy\n"
     ]
    }
   ],
   "source": [
    "multiply_matrix(A, C, 2)"
   ]
  }
 ],
 "metadata": {
  "kernelspec": {
   "display_name": "Menv",
   "language": "python",
   "name": "python3"
  },
  "language_info": {
   "codemirror_mode": {
    "name": "ipython",
    "version": 3
   },
   "file_extension": ".py",
   "mimetype": "text/x-python",
   "name": "python",
   "nbconvert_exporter": "python",
   "pygments_lexer": "ipython3",
   "version": "3.12.0"
  }
 },
 "nbformat": 4,
 "nbformat_minor": 5
}

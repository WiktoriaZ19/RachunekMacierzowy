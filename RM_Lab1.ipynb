{
 "cells": [
  {
   "cell_type": "code",
   "execution_count": 3,
   "id": "ee61aa2f-94e5-4176-812e-6465a21e707f",
   "metadata": {},
   "outputs": [],
   "source": [
    "import numpy as np\n",
    "\n",
    "counts = 0"
   ]
  },
  {
   "cell_type": "code",
   "execution_count": 90,
   "id": "80ba3ee4-f20d-44a0-9daa-02f21d1ea52f",
   "metadata": {},
   "outputs": [],
   "source": [
    "def traditional_multiply_matrix(A, B):\n",
    "    result = np.zeros((len(A), len(B)))\n",
    "    global counts\n",
    "    s = len(A)\n",
    "\n",
    "    for i in range(s):\n",
    "        for j in range(s):\n",
    "            sum_j = 0\n",
    "            for k in range(s):\n",
    "\n",
    "                sum_j += A[i][k] * B[k][j]\n",
    "                counts += 1\n",
    "\n",
    "            result[i][j] = sum_j\n",
    "\n",
    "    return result"
   ]
  },
  {
   "cell_type": "code",
   "execution_count": 89,
   "id": "3f1cd269-8558-4b6d-b6f7-ba08127a2446",
   "metadata": {},
   "outputs": [],
   "source": [
    "def multiply_matrix(A, B, l):\n",
    "    try:\n",
    "        if A.shape[1] != B.shape[0]:\n",
    "            raise ValueError(\n",
    "                \"Liczba kolumn pierwszej macierzy musi być równa liczbie wierszy drugiej macierzy\"\n",
    "            )\n",
    "\n",
    "        if (\n",
    "            A.shape[0] < 2**l\n",
    "            and A.shape[1] < 2**l\n",
    "            and B.shape[0] < 2**l\n",
    "            and B.shape[1] < 2**l\n",
    "        ):\n",
    "            return traditional_multiply_matrix(A, B)\n",
    "    except ValueError as e:\n",
    "        print(f\"Błąd: {e}\")"
   ]
  },
  {
   "cell_type": "code",
   "execution_count": 88,
   "id": "a53dde29",
   "metadata": {},
   "outputs": [],
   "source": [
    "def add_matrices(matrix1, matrix2):\n",
    "    global counts\n",
    "    if len(matrix1) != len(matrix2) or len(matrix1[0]) != len(matrix2[0]):\n",
    "        raise ValueError(\"Matrices must have the same dimensions\")\n",
    "\n",
    "    result = [[0 for _ in range(len(matrix1[0]))] for _ in range(len(matrix1))]\n",
    "\n",
    "    for i in range(len(matrix1)):\n",
    "        for j in range(len(matrix1[0])):\n",
    "            result[i][j] = matrix1[i][j] + matrix2[i][j]\n",
    "            counts += 1\n",
    "\n",
    "    return result"
   ]
  },
  {
   "cell_type": "code",
   "execution_count": 87,
   "id": "2dad928a",
   "metadata": {},
   "outputs": [],
   "source": [
    "def subtract_matrices(matrix1, matrix2):\n",
    "    global counts\n",
    "    if len(matrix1) != len(matrix2) or len(matrix1[0]) != len(matrix2[0]):\n",
    "        raise ValueError(\"Matrices must have the same dimensions\")\n",
    "\n",
    "    result = [[0 for _ in range(len(matrix1[0]))] for _ in range(len(matrix1))]\n",
    "\n",
    "    for i in range(len(matrix1)):\n",
    "        for j in range(len(matrix1[0])):\n",
    "            result[i][j] = matrix1[i][j] - matrix2[i][j]\n",
    "            counts += 1\n",
    "\n",
    "    return result"
   ]
  },
  {
   "cell_type": "code",
   "execution_count": 91,
   "id": "39c50774",
   "metadata": {},
   "outputs": [],
   "source": [
    "def split_matrix(matrix):\n",
    "    n = len(matrix) // 2\n",
    "\n",
    "    return (\n",
    "        np.array(matrix)[:n, :n],\n",
    "        np.array(matrix)[:n, n:],\n",
    "        np.array(matrix)[n:, :n],\n",
    "        np.array(matrix)[n:, n:],\n",
    "    )\n",
    "\n",
    "\n",
    "def strassen_multiply_matrix(A, B, l):\n",
    "\n",
    "    if len(A) <= 2**l:\n",
    "\n",
    "        return traditional_multiply_matrix(A, B)\n",
    "\n",
    "    A11, A12, A21, A22 = split_matrix(A)\n",
    "    B11, B12, B21, B22 = split_matrix(B)\n",
    "\n",
    "    P1 = strassen_multiply_matrix(add_matrices(A11, A22), add_matrices(B11, B22), l)\n",
    "    P2 = strassen_multiply_matrix(add_matrices(A21, A22), B11, l)\n",
    "    P3 = strassen_multiply_matrix(A11, subtract_matrices(B12, B22), l)\n",
    "    P4 = strassen_multiply_matrix(A22, subtract_matrices(B21, B11), l)\n",
    "    P5 = strassen_multiply_matrix(add_matrices(A11, A12), B22, l)\n",
    "    P6 = strassen_multiply_matrix(\n",
    "        subtract_matrices(A21, A11), add_matrices(B11, B12), l\n",
    "    )\n",
    "    P7 = strassen_multiply_matrix(\n",
    "        subtract_matrices(A12, A22), add_matrices(B21, B22), l\n",
    "    )\n",
    "\n",
    "    C11 = add_matrices(subtract_matrices(add_matrices(P1, P4), P5), P7)\n",
    "    C12 = add_matrices(P3, P5)\n",
    "    C21 = add_matrices(P2, P4)\n",
    "    C22 = add_matrices(subtract_matrices(add_matrices(P1, P3), P2), P6)\n",
    "\n",
    "    C = np.vstack((np.hstack((C11, C12)), np.hstack((C21, C22))))\n",
    "\n",
    "    return C"
   ]
  },
  {
   "cell_type": "code",
   "execution_count": 97,
   "id": "ce4d67e7",
   "metadata": {},
   "outputs": [],
   "source": [
    "import datetime\n",
    "\n",
    "l = [2, 3, 5, 7]\n",
    "for i in l:\n",
    "    times = []\n",
    "    for k in range(2, 8):\n",
    "\n",
    "        start = datetime.datetime.now()\n",
    "        strassen_multiply_matrix(\n",
    "            np.random.randint(10, size=(2**k, 2**k)),\n",
    "            np.random.randint(10, size=(2**k, 2**k)),\n",
    "            i,\n",
    "        )\n",
    "\n",
    "        times.append((datetime.datetime.now() - start).total_seconds())\n",
    "        with open(f\"times{i}.txt\", \"w+\") as f:\n",
    "            for items in times:\n",
    "                f.write(\"%s\\n\" % items)"
   ]
  },
  {
   "cell_type": "code",
   "execution_count": null,
   "id": "79a57623",
   "metadata": {},
   "outputs": [],
   "source": [
    "for i in l:\n",
    "    table = []\n",
    "    times = []\n",
    "    for k in range(2, 8):\n",
    "\n",
    "        counts = 0\n",
    "        start = datetime.datetime.now()\n",
    "        strassen_multiply_matrix(\n",
    "            np.random.randint(10, size=(2**k, 2**k)),\n",
    "            np.random.randint(10, size=(2**k, 2**k)),\n",
    "            i,\n",
    "        )\n",
    "\n",
    "        times.append((datetime.datetime.now() - start).total_seconds())\n",
    "        table.append(counts)\n",
    "\n",
    "        with open(f\"counts{i}.txt\", \"w+\") as f:\n",
    "\n",
    "            for items in table:\n",
    "\n",
    "                f.write(\"%s\\n\" % items)\n",
    "\n",
    "        with open(f\"times{i}.txt\", \"w+\") as f:\n",
    "            for items in times:\n",
    "                f.write(\"%s\\n\" % items)"
   ]
  },
  {
   "cell_type": "code",
   "execution_count": 59,
   "id": "42e82bc6",
   "metadata": {},
   "outputs": [
    {
     "name": "stdout",
     "output_type": "stream",
     "text": [
      "['96', '48', '105', '684', '342', '742', '4800', '2400', '5201', '33612', '16806', '36414', '235296', '117648', '254905', '1647084', '823542', '1784342']\n"
     ]
    }
   ],
   "source": [
    "import matplotlib.pyplot as plt\n",
    "\n",
    "\n",
    "lines = []\n",
    "with open(\"counts.txt\") as file:\n",
    "    for line in file:\n",
    "        for word in line.split():\n",
    "            lines.append(word)\n",
    "\n",
    "\n",
    "print(lines)\n",
    "# plt.xlabel(\"2^n - size of matrix\")\n",
    "# plt.ylabel(\"Time difference in seconds\")\n",
    "# plt.plot(list(range(2, 17)), times)\n",
    "# plt.show()"
   ]
  },
  {
   "cell_type": "code",
   "execution_count": 94,
   "id": "7b4660ea",
   "metadata": {},
   "outputs": [
    {
     "name": "stdout",
     "output_type": "stream",
     "text": [
      "[[1384. 1391. 1317. ... 1435. 1351. 1404.]\n",
      " [1294. 1266. 1225. ... 1393. 1305. 1382.]\n",
      " [1134. 1017. 1317. ... 1263. 1132. 1446.]\n",
      " ...\n",
      " [1172. 1094. 1195. ... 1164. 1148. 1311.]\n",
      " [1343. 1394. 1233. ... 1404. 1163. 1356.]\n",
      " [1406. 1348. 1429. ... 1397. 1501. 1517.]]\n",
      "262144\n",
      "[[1384. 1391. 1317. ... 1435. 1351. 1404.]\n",
      " [1294. 1266. 1225. ... 1393. 1305. 1382.]\n",
      " [1134. 1017. 1317. ... 1263. 1132. 1446.]\n",
      " ...\n",
      " [1172. 1094. 1195. ... 1164. 1148. 1311.]\n",
      " [1343. 1394. 1233. ... 1404. 1163. 1356.]\n",
      " [1406. 1348. 1429. ... 1397. 1501. 1517.]]\n",
      "251392\n"
     ]
    }
   ],
   "source": [
    "k = 6\n",
    "counts = 0\n",
    "\n",
    "A, B = np.random.randint(10, size=(2**k, 2**k)), np.random.randint(\n",
    "    10, size=(2**k, 2**k)\n",
    ")\n",
    "\n",
    "\n",
    "print(\n",
    "    traditional_multiply_matrix(\n",
    "        A,\n",
    "        B,\n",
    "    )\n",
    ")\n",
    "print(counts)\n",
    "counts = 0\n",
    "\n",
    "print(\n",
    "    strassen_multiply_matrix(\n",
    "        A,\n",
    "        B,\n",
    "        4,\n",
    "    )\n",
    ")\n",
    "print(counts)"
   ]
  },
  {
   "cell_type": "markdown",
   "id": "011592aa-4355-409f-a739-06fd4645694a",
   "metadata": {},
   "source": [
    "## Tests\n"
   ]
  },
  {
   "cell_type": "code",
   "execution_count": 81,
   "id": "96dc5ab4-458d-46ef-b781-172e4ba21abc",
   "metadata": {},
   "outputs": [
    {
     "data": {
      "text/plain": [
       "array([[1, 3],\n",
       "       [2, 2]])"
      ]
     },
     "execution_count": 81,
     "metadata": {},
     "output_type": "execute_result"
    }
   ],
   "source": [
    "A = np.array([[1, 3], [2, 2]])\n",
    "A"
   ]
  },
  {
   "cell_type": "code",
   "execution_count": 82,
   "id": "30e37148-9615-4b0a-88a0-9a166c014f68",
   "metadata": {},
   "outputs": [
    {
     "data": {
      "text/plain": [
       "array([[2, 2],\n",
       "       [6, 3]])"
      ]
     },
     "execution_count": 82,
     "metadata": {},
     "output_type": "execute_result"
    }
   ],
   "source": [
    "B = np.array([[2, 2], [6, 3]])\n",
    "B"
   ]
  },
  {
   "cell_type": "code",
   "execution_count": null,
   "id": "5c3171ef-ba25-4142-aa90-15396d2b53fd",
   "metadata": {},
   "outputs": [
    {
     "name": "stdout",
     "output_type": "stream",
     "text": [
      "[[20. 11.]\n",
      " [16. 10.]]\n",
      "8\n",
      "[[20. 11.]\n",
      " [16. 10.]]\n",
      "8\n"
     ]
    }
   ],
   "source": [
    "counts = 0\n",
    "print(traditional_multiply_matrix(A, B))\n",
    "print(counts)\n",
    "counts = 0\n",
    "\n",
    "\n",
    "print(strassen_multiply_matrix(A, B))\n",
    "print(counts)"
   ]
  },
  {
   "cell_type": "code",
   "execution_count": 19,
   "id": "0c94a8f1-8db1-4cfc-a070-e74ff5f9908e",
   "metadata": {},
   "outputs": [
    {
     "data": {
      "text/plain": [
       "array([[20., 11.],\n",
       "       [16., 10.]])"
      ]
     },
     "execution_count": 19,
     "metadata": {},
     "output_type": "execute_result"
    }
   ],
   "source": [
    "multiply_matrix(A, B, 2)"
   ]
  },
  {
   "cell_type": "code",
   "execution_count": null,
   "id": "fc8c7123-04b6-46bf-908e-a49dfc5a48bb",
   "metadata": {},
   "outputs": [
    {
     "data": {
      "text/plain": [
       "array([[1, 2]])"
      ]
     },
     "execution_count": 34,
     "metadata": {},
     "output_type": "execute_result"
    }
   ],
   "source": [
    "C = np.array([[1, 2]])\n",
    "C"
   ]
  },
  {
   "cell_type": "code",
   "execution_count": null,
   "id": "02eb57a4-f874-47d6-b378-06c7b4f5f3d1",
   "metadata": {},
   "outputs": [
    {
     "name": "stdout",
     "output_type": "stream",
     "text": [
      "Błąd: Liczba kolumn pierwszej macierzy musi być równa liczbie wierszy drugiej macierzy\n"
     ]
    }
   ],
   "source": [
    "multiply_matrix(A, C, 2)"
   ]
  }
 ],
 "metadata": {
  "kernelspec": {
   "display_name": "Menv",
   "language": "python",
   "name": "python3"
  },
  "language_info": {
   "codemirror_mode": {
    "name": "ipython",
    "version": 3
   },
   "file_extension": ".py",
   "mimetype": "text/x-python",
   "name": "python",
   "nbconvert_exporter": "python",
   "pygments_lexer": "ipython3",
   "version": "3.12.0"
  }
 },
 "nbformat": 4,
 "nbformat_minor": 5
}

{
 "cells": [
  {
   "cell_type": "code",
   "execution_count": 19,
   "id": "ee61aa2f-94e5-4176-812e-6465a21e707f",
   "metadata": {},
   "outputs": [],
   "source": [
    "import numpy as np"
   ]
  },
  {
   "cell_type": "code",
   "execution_count": 20,
   "id": "80ba3ee4-f20d-44a0-9daa-02f21d1ea52f",
   "metadata": {},
   "outputs": [],
   "source": [
    "def traditional_multiply_matrix(A, B):\n",
    "    result = np.zeros((A.shape[0], B.shape[1]))\n",
    "\n",
    "    k = A.shape[1]\n",
    "    \n",
    "    for i in range(A.shape[0]):\n",
    "        for j in range(B.shape[1]):\n",
    "            sum_j = 0\n",
    "            for k in range(A.shape[1]):\n",
    "                sum_j += A[i, k] * B[k, j]\n",
    "            \n",
    "            result[i, j] = sum_j\n",
    "\n",
    "    return result"
   ]
  },
  {
   "cell_type": "code",
   "execution_count": 39,
   "id": "3f1cd269-8558-4b6d-b6f7-ba08127a2446",
   "metadata": {},
   "outputs": [],
   "source": [
    "def multiply_matrix(A, B, l):\n",
    "    try:\n",
    "        if A.shape[1] != B.shape[0]:\n",
    "            raise ValueError(\"Liczba kolumn pierwszej macierzy musi być równa liczbie wierszy drugiej macierzy\")\n",
    "    \n",
    "        if A.shape[0] < 2**l and A.shape[1] < 2**l and B.shape[0] < 2**l and B.shape[1] < 2**l:\n",
    "            return traditional_multiply_matrix(A, B)\n",
    "    except ValueError as e:\n",
    "        print(f\"Błąd: {e}\")"
   ]
  },
  {
   "cell_type": "markdown",
   "id": "011592aa-4355-409f-a739-06fd4645694a",
   "metadata": {},
   "source": [
    "## Tests"
   ]
  },
  {
   "cell_type": "code",
   "execution_count": 22,
   "id": "96dc5ab4-458d-46ef-b781-172e4ba21abc",
   "metadata": {},
   "outputs": [
    {
     "data": {
      "text/plain": [
       "array([[1, 3],\n",
       "       [2, 2]])"
      ]
     },
     "execution_count": 22,
     "metadata": {},
     "output_type": "execute_result"
    }
   ],
   "source": [
    "A = np.array([[1, 3], [2, 2]])\n",
    "A"
   ]
  },
  {
   "cell_type": "code",
   "execution_count": 23,
   "id": "30e37148-9615-4b0a-88a0-9a166c014f68",
   "metadata": {},
   "outputs": [
    {
     "data": {
      "text/plain": [
       "array([[2, 2],\n",
       "       [6, 3]])"
      ]
     },
     "execution_count": 23,
     "metadata": {},
     "output_type": "execute_result"
    }
   ],
   "source": [
    "B = np.array([[2, 2], [6, 3]])\n",
    "B"
   ]
  },
  {
   "cell_type": "code",
   "execution_count": 24,
   "id": "5c3171ef-ba25-4142-aa90-15396d2b53fd",
   "metadata": {},
   "outputs": [
    {
     "data": {
      "text/plain": [
       "array([[20., 11.],\n",
       "       [16., 10.]])"
      ]
     },
     "execution_count": 24,
     "metadata": {},
     "output_type": "execute_result"
    }
   ],
   "source": [
    "traditional_multiply_matrix(A, B)"
   ]
  },
  {
   "cell_type": "code",
   "execution_count": 25,
   "id": "0c94a8f1-8db1-4cfc-a070-e74ff5f9908e",
   "metadata": {},
   "outputs": [
    {
     "data": {
      "text/plain": [
       "array([[20., 11.],\n",
       "       [16., 10.]])"
      ]
     },
     "execution_count": 25,
     "metadata": {},
     "output_type": "execute_result"
    }
   ],
   "source": [
    "multiply_matrix(A, B, 2)"
   ]
  },
  {
   "cell_type": "code",
   "execution_count": 34,
   "id": "fc8c7123-04b6-46bf-908e-a49dfc5a48bb",
   "metadata": {},
   "outputs": [
    {
     "data": {
      "text/plain": [
       "array([[1, 2]])"
      ]
     },
     "execution_count": 34,
     "metadata": {},
     "output_type": "execute_result"
    }
   ],
   "source": [
    "C = np.array([[1, 2]])\n",
    "C"
   ]
  },
  {
   "cell_type": "code",
   "execution_count": 40,
   "id": "02eb57a4-f874-47d6-b378-06c7b4f5f3d1",
   "metadata": {},
   "outputs": [
    {
     "name": "stdout",
     "output_type": "stream",
     "text": [
      "Błąd: Liczba kolumn pierwszej macierzy musi być równa liczbie wierszy drugiej macierzy\n"
     ]
    }
   ],
   "source": [
    "multiply_matrix(A, C, 2)"
   ]
  }
 ],
 "metadata": {
  "kernelspec": {
   "display_name": "Python 3 (ipykernel)",
   "language": "python",
   "name": "python3"
  },
  "language_info": {
   "codemirror_mode": {
    "name": "ipython",
    "version": 3
   },
   "file_extension": ".py",
   "mimetype": "text/x-python",
   "name": "python",
   "nbconvert_exporter": "python",
   "pygments_lexer": "ipython3",
   "version": "3.13.2"
  }
 },
 "nbformat": 4,
 "nbformat_minor": 5
}

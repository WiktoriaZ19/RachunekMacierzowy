{
 "cells": [
  {
   "cell_type": "code",
   "execution_count": 1,
   "id": "c13b143c",
   "metadata": {},
   "outputs": [],
   "source": [
    "import numpy as np\n",
    "from numpy.linalg import eig, inv"
   ]
  },
  {
   "cell_type": "code",
   "execution_count": 2,
   "id": "1dedc78d",
   "metadata": {},
   "outputs": [],
   "source": [
    "def wartosci_wlasne(M):\n",
    "    return np.linalg.eig(M).eigenvalues"
   ]
  },
  {
   "cell_type": "code",
   "execution_count": 3,
   "id": "cc9c556e",
   "metadata": {},
   "outputs": [],
   "source": [
    "def norma_macierzowaA2(M):\n",
    "    return max(np.abs(wartosci_wlasne(M)))"
   ]
  },
  {
   "cell_type": "code",
   "execution_count": 5,
   "id": "bd201511",
   "metadata": {},
   "outputs": [
    {
     "data": {
      "text/plain": [
       "np.float64(5.372281323269014)"
      ]
     },
     "execution_count": 5,
     "metadata": {},
     "output_type": "execute_result"
    }
   ],
   "source": [
    "norma_macierzowaA2([[1, 2], [3, 4]])"
   ]
  },
  {
   "cell_type": "code",
   "execution_count": 6,
   "id": "c7ddafff",
   "metadata": {},
   "outputs": [],
   "source": [
    "def macierz_odwrotna(A):\n",
    "\n",
    "    n = A.shape[0]\n",
    "\n",
    "    if A.shape[0] != A.shape[1]:\n",
    "        raise ValueError(\"Macierz musi być kwadratowa\")\n",
    "\n",
    "    rozszerzona = np.hstack((A, np.identity(n)))\n",
    "\n",
    "    for i in range(n):\n",
    "\n",
    "        if rozszerzona[i, i] == 0:\n",
    "            for j in range(i + 1, n):\n",
    "                if rozszerzona[j, i] != 0:\n",
    "                    rozszerzona[[i, j]] = rozszerzona[[j, i]]\n",
    "                    break\n",
    "            else:\n",
    "                raise ValueError(\n",
    "                    \"Macierz jest osobliwa - nie istnieje macierz odwrotna\"\n",
    "                )\n",
    "\n",
    "        dzielnik = rozszerzona[i, i]\n",
    "        rozszerzona[i] = rozszerzona[i] / dzielnik\n",
    "\n",
    "        for j in range(n):\n",
    "            if j != i and rozszerzona[j, i] != 0:\n",
    "                czynnik = rozszerzona[j, i]\n",
    "                rozszerzona[j] = rozszerzona[j] - czynnik * rozszerzona[i]\n",
    "\n",
    "    A_odwrotna = rozszerzona[:, n:]\n",
    "\n",
    "    return A_odwrotna"
   ]
  },
  {
   "cell_type": "code",
   "execution_count": 7,
   "id": "871179d8",
   "metadata": {},
   "outputs": [],
   "source": [
    "def wspl_warunkowyA2(M):\n",
    "    if np.linalg.det(M) != 0:\n",
    "        return norma_macierzowaA2(macierz_odwrotna(M)) * norma_macierzowaA2(M)\n",
    "    else:\n",
    "        return \"Macierz jest osobliwa (wyznacznik = 0)\""
   ]
  },
  {
   "cell_type": "code",
   "execution_count": 8,
   "id": "0774e90e",
   "metadata": {},
   "outputs": [
    {
     "data": {
      "text/plain": [
       "np.float64(3992006.000094148)"
      ]
     },
     "execution_count": 8,
     "metadata": {},
     "output_type": "execute_result"
    }
   ],
   "source": [
    "wspl_warunkowyA2(np.array([[1000, 999], [999, 998]]))"
   ]
  },
  {
   "cell_type": "code",
   "execution_count": 9,
   "id": "c6237874",
   "metadata": {},
   "outputs": [],
   "source": [
    "def norma_macierzowaAinf(M):\n",
    "    return max(np.sum(np.abs((M)), axis=1))"
   ]
  },
  {
   "cell_type": "code",
   "execution_count": 10,
   "id": "8a027269",
   "metadata": {},
   "outputs": [
    {
     "data": {
      "text/plain": [
       "np.int64(7)"
      ]
     },
     "execution_count": 10,
     "metadata": {},
     "output_type": "execute_result"
    }
   ],
   "source": [
    "norma_macierzowaAinf([[1, 2], [3, 4]])"
   ]
  },
  {
   "cell_type": "code",
   "execution_count": 11,
   "id": "70f80e11",
   "metadata": {},
   "outputs": [],
   "source": [
    "def wspl_warunkowyAinf(M):\n",
    "    if np.linalg.det(M) != 0:\n",
    "        return norma_macierzowaAinf(macierz_odwrotna(M)) * norma_macierzowaAinf(M)\n",
    "    else:\n",
    "        return \"Macierz jest osobliwa (wyznacznik = 0)\""
   ]
  },
  {
   "cell_type": "code",
   "execution_count": 12,
   "id": "98c4dce2",
   "metadata": {},
   "outputs": [
    {
     "data": {
      "text/plain": [
       "np.float64(3996001.000094493)"
      ]
     },
     "execution_count": 12,
     "metadata": {},
     "output_type": "execute_result"
    }
   ],
   "source": [
    "wspl_warunkowyAinf(np.array([[1000, 999], [999, 998]]))"
   ]
  },
  {
   "cell_type": "code",
   "execution_count": 13,
   "id": "23da4c84",
   "metadata": {},
   "outputs": [],
   "source": [
    "def matrix_norm_1(A):\n",
    "    sum_col = np.zeros(A.shape[1])\n",
    "    for i in range(A.shape[0]):\n",
    "        for j in range(A.shape[1]):\n",
    "            sum_col[j] += abs(A[i, j])\n",
    "    return max(sum_col)"
   ]
  },
  {
   "cell_type": "code",
   "execution_count": 14,
   "id": "5d14e011",
   "metadata": {},
   "outputs": [
    {
     "data": {
      "text/plain": [
       "np.float64(6.0)"
      ]
     },
     "execution_count": 14,
     "metadata": {},
     "output_type": "execute_result"
    }
   ],
   "source": [
    "matrix_norm_1(np.array([[1, 2], [3, 4]]))"
   ]
  },
  {
   "cell_type": "code",
   "execution_count": 15,
   "id": "f8b14c8b",
   "metadata": {},
   "outputs": [],
   "source": [
    "def cond_1(A):\n",
    "    try:\n",
    "        A_inv = macierz_odwrotna(A)\n",
    "        return matrix_norm_1(A) * matrix_norm_1(A_inv)\n",
    "    except np.linalg.LinAlgError:\n",
    "        print(\"Matrix is singular, cannot compute condition number.\")\n",
    "        return None"
   ]
  },
  {
   "cell_type": "code",
   "execution_count": 16,
   "id": "f45b3044",
   "metadata": {},
   "outputs": [
    {
     "data": {
      "text/plain": [
       "np.float64(3996001.000094493)"
      ]
     },
     "execution_count": 16,
     "metadata": {},
     "output_type": "execute_result"
    }
   ],
   "source": [
    "cond_1(np.array([[1000, 999], [999, 998]]))"
   ]
  },
  {
   "cell_type": "code",
   "execution_count": 17,
   "id": "c519ae90",
   "metadata": {},
   "outputs": [],
   "source": [
    "def matrix_norm_p(A, p):\n",
    "    result = 0\n",
    "    for i in range(A.shape[0]):\n",
    "        for j in range(A.shape[1]):\n",
    "            result += abs(A[i, j]) ** p\n",
    "    return result ** (1 / p)"
   ]
  },
  {
   "cell_type": "code",
   "execution_count": 18,
   "id": "9987e766",
   "metadata": {},
   "outputs": [
    {
     "data": {
      "text/plain": [
       "np.float64(5.477225575051661)"
      ]
     },
     "execution_count": 18,
     "metadata": {},
     "output_type": "execute_result"
    }
   ],
   "source": [
    "matrix_norm_p(np.array([[1, 2], [3, 4]]), p=2)"
   ]
  },
  {
   "cell_type": "code",
   "execution_count": 19,
   "id": "6ea7cee6",
   "metadata": {},
   "outputs": [],
   "source": [
    "def cond_p(A, p):\n",
    "    try:\n",
    "        A_inv = macierz_odwrotna(A)\n",
    "        return matrix_norm_p(A, p) * matrix_norm_p(A_inv, p)\n",
    "    except np.linalg.LinAlgError:\n",
    "        print(\"Matrix is singular, cannot compute condition number.\")\n",
    "        return None"
   ]
  },
  {
   "cell_type": "code",
   "execution_count": 20,
   "id": "8ea06ad5",
   "metadata": {},
   "outputs": [
    {
     "data": {
      "text/plain": [
       "np.float64(3992006.000094398)"
      ]
     },
     "execution_count": 20,
     "metadata": {},
     "output_type": "execute_result"
    }
   ],
   "source": [
    "cond_p(np.array([[1000, 999], [999, 998]]), p=2)"
   ]
  }
 ],
 "metadata": {
  "kernelspec": {
   "display_name": "Menv",
   "language": "python",
   "name": "python3"
  },
  "language_info": {
   "codemirror_mode": {
    "name": "ipython",
    "version": 3
   },
   "file_extension": ".py",
   "mimetype": "text/x-python",
   "name": "python",
   "nbconvert_exporter": "python",
   "pygments_lexer": "ipython3",
   "version": "3.12.0"
  }
 },
 "nbformat": 4,
 "nbformat_minor": 5
}

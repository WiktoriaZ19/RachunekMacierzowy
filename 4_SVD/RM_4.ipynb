{
 "cells": [
  {
   "cell_type": "code",
   "execution_count": 57,
   "id": "0e99b259",
   "metadata": {},
   "outputs": [],
   "source": [
    "import numpy as np"
   ]
  },
  {
   "cell_type": "code",
   "execution_count": 58,
   "id": "137b32f9",
   "metadata": {},
   "outputs": [
    {
     "name": "stdout",
     "output_type": "stream",
     "text": [
      "[[2 2 1 3]\n",
      " [7 8 2 8]\n",
      " [5 0 8 7]\n",
      " [3 5 6 3]\n",
      " [6 9 8 4]]\n"
     ]
    }
   ],
   "source": [
    "A = np.array([[2, 2, 1, 3], [7, 8, 2, 8], [5, 0, 8, 7], [3, 5, 6, 3], [6, 9, 8, 4]])\n",
    "n, m = A.shape\n",
    "print(A)"
   ]
  },
  {
   "cell_type": "code",
   "execution_count": 59,
   "id": "2b163fe3",
   "metadata": {},
   "outputs": [
    {
     "name": "stdout",
     "output_type": "stream",
     "text": [
      "AAT = \n",
      " [[ 18  56  39  31  50]\n",
      " [ 56 181 107  97 162]\n",
      " [ 39 107 138  84 122]\n",
      " [ 31  97  84  79 123]\n",
      " [ 50 162 122 123 197]]\n",
      "AAT shape =  (5, 5)\n"
     ]
    }
   ],
   "source": [
    "# 2. Proszę obliczyć i wypisać/narysować macierz AA.T\n",
    "AAT = np.dot(A, A.T)\n",
    "print(\"AAT = \\n\", AAT)\n",
    "print(\"AAT shape = \", AAT.shape)\n"
   ]
  },
  {
   "cell_type": "code",
   "execution_count": 60,
   "id": "dd98fbd5",
   "metadata": {},
   "outputs": [
    {
     "name": "stdout",
     "output_type": "stream",
     "text": [
      "Eigenvalues =  [ 5.27198727e+02  5.22965267e+01  3.29123797e+01  5.92366606e-01\n",
      " -2.64827854e-16]\n",
      "Eigenvectors = \n",
      " [[ 0.17354228  0.06750887  0.23303841 -0.4040119  -0.86475032]\n",
      " [ 0.54275123  0.5240643   0.58684982  0.03444987  0.29188733]\n",
      " [ 0.43235249 -0.83173678  0.31478192  0.14364195  0.03955483]\n",
      " [ 0.37272532 -0.07348099 -0.39457998 -0.77167806  0.3232584 ]\n",
      " [ 0.5911441   0.15366728 -0.58865896  0.46847364 -0.24687667]]\n",
      "Shape of eigenvectors (U) =  (5, 5)\n"
     ]
    }
   ],
   "source": [
    "# 3. Proszę (używając stosownej biblioteki) policzyć wartości λi i\n",
    "#wektory własne Ui macierzy AAT\n",
    "eigenvalues, eigenvectors = np.linalg.eig(AAT)\n",
    "\n",
    "idx = np.argsort(eigenvalues)[::-1]\n",
    "eigenvalues = eigenvalues[idx]\n",
    "eigenvectors = eigenvectors[:, idx]\n",
    "\n",
    "print(\"Eigenvalues = \", eigenvalues)\n",
    "print(\"Eigenvectors = \\n\", eigenvectors)\n",
    "print(\"Shape of eigenvectors (U) = \", eigenvectors.shape)"
   ]
  },
  {
   "cell_type": "code",
   "execution_count": 61,
   "id": "7e4f63c1",
   "metadata": {},
   "outputs": [
    {
     "name": "stdout",
     "output_type": "stream",
     "text": [
      "S = \n",
      " [[22.9608085   0.          0.          0.        ]\n",
      " [ 0.          7.23163375  0.          0.        ]\n",
      " [ 0.          0.          5.73693121  0.        ]\n",
      " [ 0.          0.          0.          0.76965356]\n",
      " [ 0.          0.          0.          0.        ]]\n",
      "S shape =  (5, 4)\n"
     ]
    }
   ],
   "source": [
    "# 4. Proszę wypisać/narysować macierz wektorów własnych\n",
    "# [U1U2...Un-1Un] oraz diagonalną S taką że Sii= pierwiastek z λi\n",
    "U = eigenvectors\n",
    "\n",
    "S = np.zeros((n, m))\n",
    "for i in range(min(n, m)):\n",
    "    S[i, i] = np.sqrt(eigenvalues[i]) if eigenvalues[i] > 1e-10 else 0.0\n",
    "print(\"S = \\n\", S)\n",
    "print(\"S shape = \", S.shape)"
   ]
  },
  {
   "cell_type": "code",
   "execution_count": 62,
   "id": "4b681d43",
   "metadata": {},
   "outputs": [
    {
     "name": "stdout",
     "output_type": "stream",
     "text": [
      "V.T = \n",
      " [[ 0.47790765  0.51709929  0.50883963  0.49527247]\n",
      " [ 0.047893    0.73885555 -0.65680932 -0.14282946]\n",
      " [ 0.24965289 -0.36778463 -0.54938051  0.70752311]\n",
      " [ 0.84082339 -0.22679343 -0.08868373 -0.48344179]]\n"
     ]
    }
   ],
   "source": [
    "# 5. Proszę obliczy macierz V korzystając z własności V=ATUS-1\n",
    "# 6. Proszę wypisać/narysować macierz [V1V2...V-m-1Vm]T(wierszami)\n",
    "S_inv = np.zeros_like(S)\n",
    "for i in range(m):\n",
    "    if S[i, i] > 1e-10:\n",
    "        S_inv[i, i] = 1.0 / S[i, i]\n",
    "\n",
    "V = A.T @ U @ S_inv\n",
    "print(\"V.T = \\n\", V.T)"
   ]
  },
  {
   "cell_type": "code",
   "execution_count": 63,
   "id": "ad9682db",
   "metadata": {},
   "outputs": [
    {
     "data": {
      "text/plain": [
       "array([[2.00000000e+00, 2.00000000e+00, 1.00000000e+00, 3.00000000e+00],\n",
       "       [7.00000000e+00, 8.00000000e+00, 2.00000000e+00, 8.00000000e+00],\n",
       "       [5.00000000e+00, 5.86468211e-15, 8.00000000e+00, 7.00000000e+00],\n",
       "       [3.00000000e+00, 5.00000000e+00, 6.00000000e+00, 3.00000000e+00],\n",
       "       [6.00000000e+00, 9.00000000e+00, 8.00000000e+00, 4.00000000e+00]])"
      ]
     },
     "execution_count": 63,
     "metadata": {},
     "output_type": "execute_result"
    }
   ],
   "source": [
    "reconstructed_A_v1 = U @ S @ V.T\n",
    "reconstructed_A_v1"
   ]
  },
  {
   "cell_type": "code",
   "execution_count": 64,
   "id": "1ae0c50a",
   "metadata": {},
   "outputs": [
    {
     "name": "stdout",
     "output_type": "stream",
     "text": [
      "[[123 129 122 130]\n",
      " [129 174 120 121]\n",
      " [122 120 169 125]\n",
      " [130 121 125 147]]\n"
     ]
    }
   ],
   "source": [
    "ATA = np.dot(A.T, A)\n",
    "\n",
    "print(ATA)"
   ]
  },
  {
   "cell_type": "code",
   "execution_count": 65,
   "id": "2ca5b915",
   "metadata": {},
   "outputs": [
    {
     "name": "stdout",
     "output_type": "stream",
     "text": [
      "\n",
      "Step 8: Eigenvalues (λ_i) of A^T A:\n",
      "[527.19872691   0.59236661  32.91237974  52.29652675]\n",
      "\n",
      "Eigenvectors (V_i) of A^T A (columns):\n",
      "[[ 0.47790765  0.84082339  0.24965289 -0.047893  ]\n",
      " [ 0.51709929 -0.22679343 -0.36778463 -0.73885555]\n",
      " [ 0.50883963 -0.08868373 -0.54938051  0.65680932]\n",
      " [ 0.49527247 -0.48344179  0.70752311  0.14282946]]\n"
     ]
    }
   ],
   "source": [
    "lambdas, V = np.linalg.eig(ATA)\n",
    "print(\"\\nStep 8: Eigenvalues (λ_i) of A^T A:\")\n",
    "print(lambdas)\n",
    "print(\"\\nEigenvectors (V_i) of A^T A (columns):\")\n",
    "print(V)"
   ]
  },
  {
   "cell_type": "code",
   "execution_count": 66,
   "id": "af794310",
   "metadata": {},
   "outputs": [
    {
     "name": "stdout",
     "output_type": "stream",
     "text": [
      "\n",
      "9. Macierz V^T:\n",
      " [[ 0.47790765  0.51709929  0.50883963  0.49527247]\n",
      " [ 0.84082339 -0.22679343 -0.08868373 -0.48344179]\n",
      " [ 0.24965289 -0.36778463 -0.54938051  0.70752311]\n",
      " [-0.047893   -0.73885555  0.65680932  0.14282946]]\n"
     ]
    }
   ],
   "source": [
    "print(\"\\n9. Macierz V^T:\\n\", V.T)"
   ]
  },
  {
   "cell_type": "code",
   "execution_count": 67,
   "id": "49e10f12",
   "metadata": {},
   "outputs": [
    {
     "name": "stdout",
     "output_type": "stream",
     "text": [
      "\n",
      "Step 9: Diagonal S (manual):\n",
      " [[22.9608085   0.          0.          0.        ]\n",
      " [ 0.          0.76965356  0.          0.        ]\n",
      " [ 0.          0.          5.73693121  0.        ]\n",
      " [ 0.          0.          0.          7.23163375]]\n"
     ]
    }
   ],
   "source": [
    "S = np.zeros((m, m))\n",
    "for i in range(m):\n",
    "    S[i, i] = np.sqrt(lambdas[i]) if lambdas[i] > 1e-10 else 0.0\n",
    "print(\"\\nStep 9: Diagonal S (manual):\\n\", S)"
   ]
  },
  {
   "cell_type": "code",
   "execution_count": 68,
   "id": "60cf7a8b",
   "metadata": {},
   "outputs": [
    {
     "name": "stdout",
     "output_type": "stream",
     "text": [
      "\n",
      "Step 11: U = [U_1 U_2 ... U_m]:\n",
      " [[ 0.17354228 -0.4040119   0.23303841 -0.06750887]\n",
      " [ 0.54275123  0.03444987  0.58684982 -0.5240643 ]\n",
      " [ 0.43235249  0.14364195  0.31478192  0.83173678]\n",
      " [ 0.37272532 -0.77167806 -0.39457998  0.07348099]\n",
      " [ 0.5911441   0.46847364 -0.58865896 -0.15366728]]\n"
     ]
    }
   ],
   "source": [
    "S_inv = np.zeros_like(S)\n",
    "for i in range(m):\n",
    "    if S[i, i] > 1e-10:\n",
    "        S_inv[i, i] = 1.0 / S[i, i]\n",
    "\n",
    "U = A @ V @ S_inv\n",
    "print(\"\\nStep 11: U = [U_1 U_2 ... U_m]:\\n\", U)"
   ]
  },
  {
   "cell_type": "code",
   "execution_count": 69,
   "id": "adebec0b",
   "metadata": {},
   "outputs": [
    {
     "name": "stdout",
     "output_type": "stream",
     "text": [
      "\n",
      "Step 12: Reconstructed A (should match original A):\n",
      " Using AAT decomposition:\n",
      " [[2.00000000e+00 2.00000000e+00 1.00000000e+00 3.00000000e+00]\n",
      " [7.00000000e+00 8.00000000e+00 2.00000000e+00 8.00000000e+00]\n",
      " [5.00000000e+00 5.86468211e-15 8.00000000e+00 7.00000000e+00]\n",
      " [3.00000000e+00 5.00000000e+00 6.00000000e+00 3.00000000e+00]\n",
      " [6.00000000e+00 9.00000000e+00 8.00000000e+00 4.00000000e+00]] \n",
      "\n",
      " Using ATA decomposition:\n",
      " [[ 2.00000000e+00  2.00000000e+00  1.00000000e+00  3.00000000e+00]\n",
      " [ 7.00000000e+00  8.00000000e+00  2.00000000e+00  8.00000000e+00]\n",
      " [ 5.00000000e+00 -1.77635684e-15  8.00000000e+00  7.00000000e+00]\n",
      " [ 3.00000000e+00  5.00000000e+00  6.00000000e+00  3.00000000e+00]\n",
      " [ 6.00000000e+00  9.00000000e+00  8.00000000e+00  4.00000000e+00]] \n",
      "\n",
      " Original A:\n",
      " [[2 2 1 3]\n",
      " [7 8 2 8]\n",
      " [5 0 8 7]\n",
      " [3 5 6 3]\n",
      " [6 9 8 4]]\n"
     ]
    }
   ],
   "source": [
    "reconstructed_A = U @ S @ V.T\n",
    "print(\n",
    "    \"\\nStep 12: Reconstructed A (should match original A):\\n\",\n",
    "    \"Using AAT decomposition:\\n\",\n",
    "    reconstructed_A_v1,\n",
    "    \"\\n\\n\",\n",
    "    \"Using ATA decomposition:\\n\",\n",
    "    reconstructed_A,\n",
    "    \"\\n\\n\",\n",
    "    \"Original A:\\n\",\n",
    "    A,\n",
    ")"
   ]
  },
  {
   "cell_type": "code",
   "execution_count": 70,
   "id": "e4f36c3e",
   "metadata": {},
   "outputs": [
    {
     "name": "stdout",
     "output_type": "stream",
     "text": [
      "\n",
      "Step 13: Dimensions:\n",
      "dim(R(A)) = rank(A) = 4\n",
      "4\n",
      "dim(N(A)) = nullity(A) = 0\n"
     ]
    }
   ],
   "source": [
    "from numpy.linalg import matrix_rank\n",
    "\n",
    "\n",
    "rank_A = np.sum(lambdas > 1e-10)\n",
    "nullity_A = m - rank_A\n",
    "print(\"\\nStep 13: Dimensions:\")\n",
    "print(f\"dim(R(A)) = rank(A) = {rank_A}\")\n",
    "print(matrix_rank(A))\n",
    "\n",
    "print(f\"dim(N(A)) = nullity(A) = {nullity_A}\")"
   ]
  }
 ],
 "metadata": {
  "kernelspec": {
   "display_name": "Python 3",
   "language": "python",
   "name": "python3"
  },
  "language_info": {
   "codemirror_mode": {
    "name": "ipython",
    "version": 3
   },
   "file_extension": ".py",
   "mimetype": "text/x-python",
   "name": "python",
   "nbconvert_exporter": "python",
   "pygments_lexer": "ipython3",
   "version": "3.11.8"
  }
 },
 "nbformat": 4,
 "nbformat_minor": 5
}

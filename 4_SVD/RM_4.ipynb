{
 "cells": [
  {
   "cell_type": "code",
   "execution_count": null,
   "id": "0e99b259",
   "metadata": {},
   "outputs": [],
   "source": [
    "import numpy as np"
   ]
  },
  {
   "cell_type": "code",
   "execution_count": 68,
   "id": "137b32f9",
   "metadata": {},
   "outputs": [
    {
     "name": "stdout",
     "output_type": "stream",
     "text": [
      "[[2 2 1 3]\n",
      " [7 8 2 8]\n",
      " [5 0 8 7]\n",
      " [3 5 6 3]\n",
      " [6 9 8 4]]\n"
     ]
    }
   ],
   "source": [
    "A = np.array([[2, 2, 1, 3], [7, 8, 2, 8], [5, 0, 8, 7], [3, 5, 6, 3], [6, 9, 8, 4]])\n",
    "n, m = A.shape\n",
    "print(A)"
   ]
  },
  {
   "cell_type": "code",
   "execution_count": 69,
   "id": "1ae0c50a",
   "metadata": {},
   "outputs": [
    {
     "name": "stdout",
     "output_type": "stream",
     "text": [
      "[[123 129 122 130]\n",
      " [129 174 120 121]\n",
      " [122 120 169 125]\n",
      " [130 121 125 147]]\n"
     ]
    }
   ],
   "source": [
    "ATA = np.dot(A.T, A)\n",
    "\n",
    "print(ATA)"
   ]
  },
  {
   "cell_type": "code",
   "execution_count": 52,
   "id": "2ca5b915",
   "metadata": {},
   "outputs": [
    {
     "name": "stdout",
     "output_type": "stream",
     "text": [
      "\n",
      "Step 8: Eigenvalues (λ_i) of A^T A:\n",
      "[430.73196147  59.91931837   6.26331361  20.08540655]\n",
      "\n",
      "Eigenvectors (V_i) of A^T A (columns):\n",
      "[[ 0.61815934  0.29989507  0.57592274  0.44300674]\n",
      " [ 0.44206838 -0.10849764  0.24128459 -0.85707967]\n",
      " [ 0.56014362 -0.65084557 -0.45039358  0.24450931]\n",
      " [ 0.32968729  0.68897842 -0.63815387 -0.09682286]]\n"
     ]
    }
   ],
   "source": [
    "lambdas, V = np.linalg.eig(ATA)\n",
    "print(\"\\nStep 8: Eigenvalues (λ_i) of A^T A:\")\n",
    "print(lambdas)\n",
    "print(\"\\nEigenvectors (V_i) of A^T A (columns):\")\n",
    "print(V)"
   ]
  },
  {
   "cell_type": "code",
   "execution_count": 70,
   "id": "af794310",
   "metadata": {},
   "outputs": [
    {
     "name": "stdout",
     "output_type": "stream",
     "text": [
      "\n",
      "9. Macierz V^T:\n",
      " [[ 0.61815934  0.44206838  0.56014362  0.32968729]\n",
      " [ 0.29989507 -0.10849764 -0.65084557  0.68897842]\n",
      " [ 0.57592274  0.24128459 -0.45039358 -0.63815387]\n",
      " [ 0.44300674 -0.85707967  0.24450931 -0.09682286]]\n"
     ]
    }
   ],
   "source": [
    "print(\"\\n9. Macierz V^T:\\n\", V.T)"
   ]
  },
  {
   "cell_type": "code",
   "execution_count": 74,
   "id": "49e10f12",
   "metadata": {},
   "outputs": [
    {
     "name": "stdout",
     "output_type": "stream",
     "text": [
      "\n",
      "Step 9: Diagonal S (manual):\n",
      " [[20.75408301  0.          0.          0.        ]\n",
      " [ 0.          7.74075696  0.          0.        ]\n",
      " [ 0.          0.          2.50266131  0.        ]\n",
      " [ 0.          0.          0.          4.48167452]]\n"
     ]
    }
   ],
   "source": [
    "S = np.zeros((m, m))\n",
    "for i in range(m):\n",
    "    S[i, i] = np.sqrt(lambdas[i]) if lambdas[i] > 1e-10 else 0.0\n",
    "print(\"\\nStep 9: Diagonal S (manual):\\n\", S)"
   ]
  },
  {
   "cell_type": "code",
   "execution_count": 75,
   "id": "60cf7a8b",
   "metadata": {},
   "outputs": [
    {
     "name": "stdout",
     "output_type": "stream",
     "text": [
      "\n",
      "Step 11: U = [U_1 U_2 ... U_m]:\n",
      " [[ 0.17681634  0.2323913  -0.29186551 -0.19503985]\n",
      " [ 0.5599596   0.70295717 -0.01769403 -0.90170635]\n",
      " [ 0.47603918  0.14411507 -2.07403694  0.77947387]\n",
      " [ 0.40545003 -0.19131735 -0.67233703 -0.3971263 ]\n",
      " [ 0.64987066 -0.21031008 -0.21124164 -0.77803363]]\n"
     ]
    }
   ],
   "source": [
    "S_inv = np.zeros_like(S)\n",
    "for i in range(m):\n",
    "    if S[i, i] > 1e-10:\n",
    "        S_inv[i, i] = 1.0 / S[i, i]\n",
    "\n",
    "U = A @ V @ S_inv\n",
    "print(\"\\nStep 11: U = [U_1 U_2 ... U_m]:\\n\", U)"
   ]
  },
  {
   "cell_type": "code",
   "execution_count": null,
   "id": "adebec0b",
   "metadata": {},
   "outputs": [
    {
     "name": "stdout",
     "output_type": "stream",
     "text": [
      "\n",
      "Step 12: Reconstructed A (should match original A):\n",
      " [[0.04947759 0.81811934 0.7883919  0.60408366]\n",
      " [0.19956419 0.21971753 0.07282224 0.49019101]\n",
      " [0.45073204 0.10379424 0.72024798 0.78083499]\n",
      " [0.54020983 0.2094221  0.39908469 0.02106216]\n",
      " [0.12990275 0.15128147 0.15548295 0.33681011]] \n",
      "\n",
      " [[0.04947759 0.81811934 0.7883919  0.60408366]\n",
      " [0.19956419 0.21971753 0.07282224 0.49019101]\n",
      " [0.45073204 0.10379424 0.72024798 0.78083499]\n",
      " [0.54020983 0.2094221  0.39908469 0.02106216]\n",
      " [0.12990275 0.15128147 0.15548295 0.33681011]]\n"
     ]
    }
   ],
   "source": [
    "reconstructed_A = U @ S @ V.T\n",
    "print(\n",
    "    \"\\nStep 12: Reconstructed A (should match original A):\\n\",\n",
    "    reconstructed_A,\n",
    "    \"\\n\\n\",\n",
    "    A,\n",
    ")\n",
    "\n",
    "\n",
    "### Wiktoria tutaj daj swój wynik dekompozycji"
   ]
  },
  {
   "cell_type": "code",
   "execution_count": 76,
   "id": "e4f36c3e",
   "metadata": {},
   "outputs": [
    {
     "name": "stdout",
     "output_type": "stream",
     "text": [
      "\n",
      "Step 13: Dimensions:\n",
      "dim(R(A)) = rank(A) = 4\n",
      "4\n",
      "dim(N(A)) = nullity(A) = 0\n"
     ]
    }
   ],
   "source": [
    "from numpy.linalg import matrix_rank\n",
    "\n",
    "\n",
    "rank_A = np.sum(lambdas > 1e-10)\n",
    "nullity_A = m - rank_A\n",
    "print(\"\\nStep 13: Dimensions:\")\n",
    "print(f\"dim(R(A)) = rank(A) = {rank_A}\")\n",
    "print(matrix_rank(A))\n",
    "\n",
    "print(f\"dim(N(A)) = nullity(A) = {nullity_A}\")"
   ]
  }
 ],
 "metadata": {
  "kernelspec": {
   "display_name": "Menv",
   "language": "python",
   "name": "python3"
  },
  "language_info": {
   "codemirror_mode": {
    "name": "ipython",
    "version": 3
   },
   "file_extension": ".py",
   "mimetype": "text/x-python",
   "name": "python",
   "nbconvert_exporter": "python",
   "pygments_lexer": "ipython3",
   "version": "3.12.0"
  }
 },
 "nbformat": 4,
 "nbformat_minor": 5
}

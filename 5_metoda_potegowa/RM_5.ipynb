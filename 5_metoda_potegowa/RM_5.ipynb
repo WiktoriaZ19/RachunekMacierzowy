{
 "cells": [
  {
   "cell_type": "code",
   "execution_count": 1,
   "id": "947d6b28",
   "metadata": {},
   "outputs": [],
   "source": [
    "import numpy as np\n",
    "np.random.seed(19)\n"
   ]
  },
  {
   "cell_type": "markdown",
   "id": "a2806e91",
   "metadata": {},
   "source": [
    "# 1"
   ]
  },
  {
   "cell_type": "code",
   "execution_count": 2,
   "id": "85074522",
   "metadata": {},
   "outputs": [],
   "source": [
    "def power_method(A, p=2, epsilon=1e-8, max_iter=1000):\n",
    "\n",
    "    n = A.shape[0]\n",
    "\n",
    "    while True:\n",
    "        # Generate a random 3x1 vector\n",
    "        z = np.random.uniform(0.0, 1.0, n)\n",
    "\n",
    "        # Calculate the product of A and z\n",
    "        w = np.dot(A, z)\n",
    "\n",
    "        # Calculate error\n",
    "        lambda_ = np.max(np.abs(w))\n",
    "        error = np.linalg.norm(w - lambda_ * z, ord=p)\n",
    "\n",
    "        if error >= epsilon: # z is ok -> don't start froma vector that meets the stop condition\n",
    "            break\n",
    "\n",
    "\n",
    "    for i in range(max_iter):\n",
    "        w = np.dot(A, z)\n",
    "        lambda_ = np.max(np.abs(w))\n",
    "        z = w / lambda_\n",
    "\n",
    "        error = np.linalg.norm(A @ z - lambda_ * z, ord=p)\n",
    "\n",
    "\n",
    "        if error < epsilon:\n",
    "            break\n",
    "\n",
    "    return lambda_, z, i+i, error"
   ]
  },
  {
   "cell_type": "code",
   "execution_count": 3,
   "id": "4adb50a0",
   "metadata": {},
   "outputs": [
    {
     "name": "stdout",
     "output_type": "stream",
     "text": [
      "Matrix A:\n",
      "[[5 2 8]\n",
      " [3 4 2]\n",
      " [8 6 2]]\n",
      "Największa wartość własna: 13.62590694760338\n",
      "Odpowiadający wektor własny: [1.         0.50923604 0.95092936]\n",
      "Liczba iteracji: 40\n",
      "Końcowy błąd: 6.578052208635384e-09\n"
     ]
    }
   ],
   "source": [
    "# Generate a random 3x3 matrix\n",
    "np.random.seed(19)\n",
    "A = np.random.randint(0, 10, (3,3))\n",
    "\n",
    "print(\"Matrix A:\")\n",
    "print(A)\n",
    "\n",
    "lambda_max, eigenvector, iterations, final_error = power_method(A)\n",
    "\n",
    "print(\"Największa wartość własna:\", lambda_max)\n",
    "print(\"Odpowiadający wektor własny:\", eigenvector)\n",
    "print(\"Liczba iteracji:\", iterations)\n",
    "print(\"Końcowy błąd:\", final_error)"
   ]
  },
  {
   "cell_type": "code",
   "execution_count": 4,
   "id": "19f38a85",
   "metadata": {},
   "outputs": [
    {
     "data": {
      "text/plain": [
       "array([13.62590694,  6.93880287, 12.95727495])"
      ]
     },
     "execution_count": 4,
     "metadata": {},
     "output_type": "execute_result"
    }
   ],
   "source": [
    "np.dot(A, eigenvector)"
   ]
  },
  {
   "cell_type": "code",
   "execution_count": 5,
   "id": "e44f7398",
   "metadata": {},
   "outputs": [
    {
     "data": {
      "text/plain": [
       "array([13.62590695,  6.93880287, 12.95727495])"
      ]
     },
     "execution_count": 5,
     "metadata": {},
     "output_type": "execute_result"
    }
   ],
   "source": [
    "lambda_max * eigenvector"
   ]
  },
  {
   "cell_type": "markdown",
   "id": "275b5eaf",
   "metadata": {},
   "source": [
    "# 2\n"
   ]
  },
  {
   "cell_type": "code",
   "execution_count": 15,
   "id": "5cc35f7b",
   "metadata": {},
   "outputs": [
    {
     "name": "stdout",
     "output_type": "stream",
     "text": [
      "Macierz A:\n",
      "[[5 2 8]\n",
      " [3 4 2]\n",
      " [8 6 2]]\n",
      "\n",
      "Macierz U:\n",
      "[[ 0.61918806  0.78051443 -0.0860428 ]\n",
      " [ 0.3685361  -0.19209505  0.90954969]\n",
      " [ 0.69338827 -0.59489218 -0.40659071]]\n",
      "\n",
      "Macierz D:\n",
      "[[13.86943642  0.          0.        ]\n",
      " [ 0.          5.61901815  0.        ]\n",
      " [ 0.          0.          1.437139  ]]\n",
      "\n",
      "Macierz V:\n",
      "[[ 0.70288759 -0.25500014 -0.66402106]\n",
      " [ 0.49553925 -0.49416185  0.7143143 ]\n",
      " [ 0.51028412  0.83113115  0.22097765]]\n",
      "\n",
      "Odtworzona macierz A:\n",
      "[[5. 2. 8.]\n",
      " [3. 4. 2.]\n",
      " [8. 6. 2.]]\n"
     ]
    }
   ],
   "source": [
    "AAT = np.dot(A, A.T)\n",
    "B = AAT.copy()\n",
    "\n",
    "eigenvalues = []\n",
    "eigenvectors = []\n",
    "\n",
    "# Calculate eigenvalues and eigenvectors of AAT\n",
    "for i in range(3):\n",
    "    lambda_, eigenvector_, _, _ = power_method(B)\n",
    "    eigenvalues.append(lambda_)\n",
    "    eigenvectors.append(eigenvector_)\n",
    "\n",
    "    # deflate\n",
    "    B = B - lambda_ * np.outer(eigenvector_, eigenvector_) / np.dot(eigenvector_, eigenvector_)\n",
    "\n",
    "# Normalize eigenvectors\n",
    "for i in range(len(eigenvectors)):\n",
    "    eigenvectors[i] = eigenvectors[i] / np.linalg.norm(eigenvectors[i])\n",
    "\n",
    "# Matrix U — wektory własne\n",
    "U = np.column_stack(eigenvectors)\n",
    "\n",
    "# Matrix D - pierwiastki z wartości własnych\n",
    "D_vals = np.sqrt(np.array(eigenvalues))\n",
    "D = np.diag(D_vals)\n",
    "\n",
    "# Inverse D \n",
    "D_inv = np.diag([1 / d if d > 1e-12 else 0 for d in D_vals])\n",
    "\n",
    "V = A.T @ U @ D_inv\n",
    "\n",
    "A_reconstructed = U @ D @ V.T\n",
    "\n",
    "print(\"Macierz A:\")\n",
    "print(A)\n",
    "print(\"\\nMacierz U:\")\n",
    "print(U)\n",
    "print(\"\\nMacierz D:\")\n",
    "print(D)\n",
    "print(\"\\nMacierz V:\")\n",
    "print(V)\n",
    "print(\"\\nOdtworzona macierz A:\")\n",
    "print(A_reconstructed)"
   ]
  },
  {
   "cell_type": "code",
   "execution_count": null,
   "id": "b785dfc2",
   "metadata": {},
   "outputs": [],
   "source": []
  }
 ],
 "metadata": {
  "kernelspec": {
   "display_name": "Python 3",
   "language": "python",
   "name": "python3"
  },
  "language_info": {
   "codemirror_mode": {
    "name": "ipython",
    "version": 3
   },
   "file_extension": ".py",
   "mimetype": "text/x-python",
   "name": "python",
   "nbconvert_exporter": "python",
   "pygments_lexer": "ipython3",
   "version": "3.11.8"
  }
 },
 "nbformat": 4,
 "nbformat_minor": 5
}

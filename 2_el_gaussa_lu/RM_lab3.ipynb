{
 "cells": [
  {
   "cell_type": "code",
   "execution_count": null,
   "id": "c13b143c",
   "metadata": {},
   "outputs": [],
   "source": [
    "import numpy as np\n",
    "from numpy.linalg import eig, inv"
   ]
  },
  {
   "cell_type": "code",
   "execution_count": 14,
   "id": "1dedc78d",
   "metadata": {},
   "outputs": [],
   "source": [
    "def wartosci_wlasne(M):\n",
    "    return np.linalg.eig(M).eigenvalues"
   ]
  },
  {
   "cell_type": "code",
   "execution_count": 18,
   "id": "cc9c556e",
   "metadata": {},
   "outputs": [],
   "source": [
    "def norma_macierzowaA2(M):\n",
    "    return max(np.abs(wartosci_wlasne(M)))"
   ]
  },
  {
   "cell_type": "code",
   "execution_count": 19,
   "id": "bd201511",
   "metadata": {},
   "outputs": [
    {
     "data": {
      "text/plain": [
       "np.float64(5.372281323269014)"
      ]
     },
     "execution_count": 19,
     "metadata": {},
     "output_type": "execute_result"
    }
   ],
   "source": [
    "norma_macierzowaA2([[1, 2], [3, 4]])"
   ]
  },
  {
   "cell_type": "code",
   "execution_count": null,
   "id": "c7ddafff",
   "metadata": {},
   "outputs": [],
   "source": [
    "def macierz_odwrotna(A):\n",
    "\n",
    "    n = A.shape[0]\n",
    "\n",
    "    if A.shape[0] != A.shape[1]:\n",
    "        raise ValueError(\"Macierz musi być kwadratowa\")\n",
    "\n",
    "    rozszerzona = np.hstack((A, np.identity(n)))\n",
    "\n",
    "    for i in range(n):\n",
    "\n",
    "        if rozszerzona[i, i] == 0:\n",
    "            for j in range(i + 1, n):\n",
    "                if rozszerzona[j, i] != 0:\n",
    "                    rozszerzona[[i, j]] = rozszerzona[[j, i]]\n",
    "                    break\n",
    "            else:\n",
    "                raise ValueError(\n",
    "                    \"Macierz jest osobliwa - nie istnieje macierz odwrotna\"\n",
    "                )\n",
    "\n",
    "        dzielnik = rozszerzona[i, i]\n",
    "        rozszerzona[i] = rozszerzona[i] / dzielnik\n",
    "\n",
    "        for j in range(n):\n",
    "            if j != i and rozszerzona[j, i] != 0:\n",
    "                czynnik = rozszerzona[j, i]\n",
    "                rozszerzona[j] = rozszerzona[j] - czynnik * rozszerzona[i]\n",
    "\n",
    "    A_odwrotna = rozszerzona[:, n:]\n",
    "\n",
    "    return A_odwrotna"
   ]
  },
  {
   "cell_type": "code",
   "execution_count": 49,
   "id": "871179d8",
   "metadata": {},
   "outputs": [],
   "source": [
    "def wspl_warunkowyA2(M):\n",
    "    if np.linalg.det(M) != 0:\n",
    "        return norma_macierzowaA2(macierz_odwrotna(M)) * norma_macierzowaA2(M)\n",
    "    else:\n",
    "        return \"Macierz jest osobliwa (wyznacznik = 0)\""
   ]
  },
  {
   "cell_type": "code",
   "execution_count": 51,
   "id": "0774e90e",
   "metadata": {},
   "outputs": [
    {
     "data": {
      "text/plain": [
       "np.float64(3992006.000094148)"
      ]
     },
     "execution_count": 51,
     "metadata": {},
     "output_type": "execute_result"
    }
   ],
   "source": [
    "wspl_warunkowyA2(np.array([[1000, 999], [999, 998]]))"
   ]
  },
  {
   "cell_type": "code",
   "execution_count": 44,
   "id": "c6237874",
   "metadata": {},
   "outputs": [],
   "source": [
    "def norma_macierzowaAinf(M):\n",
    "    return max(np.sum(np.abs((M)), axis=1))"
   ]
  },
  {
   "cell_type": "code",
   "execution_count": 47,
   "id": "8a027269",
   "metadata": {},
   "outputs": [
    {
     "data": {
      "text/plain": [
       "np.int64(7)"
      ]
     },
     "execution_count": 47,
     "metadata": {},
     "output_type": "execute_result"
    }
   ],
   "source": [
    "norma_macierzowaAinf([[1, 2], [3, 4]])"
   ]
  },
  {
   "cell_type": "code",
   "execution_count": 52,
   "id": "70f80e11",
   "metadata": {},
   "outputs": [],
   "source": [
    "def wspl_warunkowyAinf(M):\n",
    "    if np.linalg.det(M) != 0:\n",
    "        return norma_macierzowaAinf(macierz_odwrotna(M)) * norma_macierzowaAinf(M)\n",
    "    else:\n",
    "        return \"Macierz jest osobliwa (wyznacznik = 0)\""
   ]
  },
  {
   "cell_type": "code",
   "execution_count": 54,
   "id": "98c4dce2",
   "metadata": {},
   "outputs": [
    {
     "data": {
      "text/plain": [
       "np.float64(3996001.000094493)"
      ]
     },
     "execution_count": 54,
     "metadata": {},
     "output_type": "execute_result"
    }
   ],
   "source": [
    "wspl_warunkowyAinf(np.array([[1000, 999], [999, 998]]))"
   ]
  }
 ],
 "metadata": {
  "kernelspec": {
   "display_name": "Menv",
   "language": "python",
   "name": "python3"
  },
  "language_info": {
   "codemirror_mode": {
    "name": "ipython",
    "version": 3
   },
   "file_extension": ".py",
   "mimetype": "text/x-python",
   "name": "python",
   "nbconvert_exporter": "python",
   "pygments_lexer": "ipython3",
   "version": "3.12.0"
  }
 },
 "nbformat": 4,
 "nbformat_minor": 5
}

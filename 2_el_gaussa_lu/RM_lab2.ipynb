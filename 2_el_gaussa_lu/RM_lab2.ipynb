{
 "cells": [
  {
   "cell_type": "code",
   "execution_count": 20,
   "id": "8ed83b9e-2e39-4392-8b6e-7b43559588cd",
   "metadata": {},
   "outputs": [],
   "source": [
    "import numpy as np"
   ]
  },
  {
   "cell_type": "code",
   "execution_count": 21,
   "id": "bc6b7674-c0bd-4a73-918f-78cccb84292a",
   "metadata": {},
   "outputs": [],
   "source": [
    "def lu_decomposition(A, pivoting=False):\n",
    "    A = np.array(\n",
    "        A, dtype=float\n",
    "    )\n",
    "    n = A.shape[0]\n",
    "    # Macierz permutacyjna – początkowo jednostkowa\n",
    "    P = np.eye(n)\n",
    "    # Macierz dolnotrójkątna – początkowo jednostkowa\n",
    "    L = np.eye(n)\n",
    "    # Kopia A, bo będziemy modyfikować U\n",
    "    U = A.copy()\n",
    "\n",
    "    for i in range(n):\n",
    "        if pivoting:\n",
    "            # Znalezienie indeksu największego elementu w aktualnej kolumnie poniżej przekątnej\n",
    "            max_index = np.argmax(abs(U[i:, i])) + i\n",
    "\n",
    "            # Zamiana wierszy\n",
    "            if max_index != i:\n",
    "                U[[i, max_index]] = U[[max_index, i]]\n",
    "                P[[i, max_index]] = P[[max_index, i]]\n",
    "                if i > 0:  # Zamiana tylko wcześniejszych kolumn w L\n",
    "                    L[[i, max_index], :i] = L[[max_index, i], :i]\n",
    "\n",
    "        for j in range(i + 1, n):\n",
    "            # Obliczenie współczynnika eliminacji\n",
    "            L[j, i] = U[j, i] / U[i, i]\n",
    "            # Aktualizacja macierzy U\n",
    "            U[j, i:] -= L[j, i] * U[i, i:]\n",
    "\n",
    "    if pivoting:\n",
    "        return P, L, U\n",
    "    else:\n",
    "        return L, U"
   ]
  },
  {
   "cell_type": "code",
   "execution_count": 22,
   "id": "dfa0ac2d",
   "metadata": {},
   "outputs": [],
   "source": [
    "def solve_lu(A, b, pivoting=False):\n",
    "    b = np.array(b, dtype=float)\n",
    "    if pivoting:\n",
    "        P, L, U = lu_decomposition(A, pivoting=True)\n",
    "        b = np.dot(P, b)\n",
    "    else:\n",
    "        L, U = lu_decomposition(A, pivoting=False)\n",
    "\n",
    "    # Rozwiązanie Lc = b (podstawianie w przód)\n",
    "    n = len(b)\n",
    "    c = np.zeros(n)\n",
    "    for i in range(n):\n",
    "        c[i] = b[i] - np.dot(L[i, :i], c[:i])\n",
    "    \n",
    "    # Rozwiązanie Ux = c (podstawianie wstecz)\n",
    "    x = np.zeros(n)\n",
    "    for i in range(n-1, -1, -1):\n",
    "        x[i] = (c[i] - np.dot(U[i, i+1:], x[i+1:])) / U[i, i]\n",
    "    \n",
    "    return x"
   ]
  },
  {
   "cell_type": "code",
   "execution_count": 23,
   "id": "2b562d8b",
   "metadata": {},
   "outputs": [
    {
     "name": "stdout",
     "output_type": "stream",
     "text": [
      "Rozwiązanie układu równań (LU bez pivotingu): [ 2.  3. -1.]\n",
      "Rozwiązanie układu równań (LU z pivotingiem): [ 2.  3. -1.]\n"
     ]
    }
   ],
   "source": [
    "A = np.array([[2, 1, -1], [-3, -1, 2], [-2, 1, 2]])\n",
    "b = np.array([8, -11, -3])\n",
    "\n",
    "x = solve_lu(A, b, pivoting=False)\n",
    "print(\"Rozwiązanie układu równań (LU bez pivotingu):\", x)\n",
    "\n",
    "x = solve_lu(A, b, pivoting=True)\n",
    "print(\"Rozwiązanie układu równań (LU z pivotingiem):\", x)"
   ]
  },
  {
   "cell_type": "code",
   "execution_count": 24,
   "id": "b46360b2-c16c-479e-bc2a-4d9c1f20b6bd",
   "metadata": {},
   "outputs": [],
   "source": [
    "def gauss_elimination_no_pivoting(A, b):\n",
    "    \"\"\"\n",
    "    Rozwiązuje układ równań Ax = b za pomocą eliminacji Gaussa bez pivotingu,\n",
    "    generując jedynki na przekątnej.\n",
    "\n",
    "    Parametry:\n",
    "    A -- macierz współczynników (n x n)\n",
    "    b -- wektor prawych stron (n)\n",
    "\n",
    "    Zwraca:\n",
    "    x -- wektor rozwiązania\n",
    "    \"\"\"\n",
    "    n = len(A)\n",
    "    A = np.array(\n",
    "        A, dtype=float\n",
    "    )  # Konwersja na float, aby uniknąć dzielenia całkowitego\n",
    "    b = np.array(b, dtype=float)\n",
    "\n",
    "    # --- Eliminacja współczynników pod przekątną ---\n",
    "    for k in range(n - 1):  # Dla każdej kolumny (oprócz ostatniej)\n",
    "        for i in range(k + 1, n):  # Dla każdego wiersza poniżej przekątnej\n",
    "            if A[k, k] == 0:\n",
    "                raise ZeroDivisionError(\n",
    "                    \"Wystąpiło dzielenie przez zero. Użyj pivotingu!\"\n",
    "                )\n",
    "            factor = A[i, k] / A[k, k]\n",
    "            A[i, k:] -= factor * A[k, k:]  # Aktualizacja wiersza i-tego\n",
    "            b[i] -= factor * b[k]\n",
    "\n",
    "    # --- Normalizacja, aby uzyskać jedynki na przekątnej ---\n",
    "    for k in range(n):\n",
    "        divisor = A[k, k]\n",
    "        if divisor == 0:\n",
    "            raise ZeroDivisionError(\"Macierz osobliwa - brak rozwiązania!\")\n",
    "        A[k, k:] /= divisor  # Normalizacja wiersza\n",
    "        b[k] /= divisor\n",
    "\n",
    "    # --- Rozwiązanie układu równań (wsteczna substytucja) ---\n",
    "    x = np.zeros(n)\n",
    "    for i in range(n - 1, -1, -1):\n",
    "        x[i] = b[i] - np.dot(A[i, i + 1 :], x[i + 1 :])\n",
    "\n",
    "    return x"
   ]
  },
  {
   "cell_type": "code",
   "execution_count": 25,
   "id": "17566d08",
   "metadata": {},
   "outputs": [
    {
     "name": "stdout",
     "output_type": "stream",
     "text": [
      "Rozwiązanie (bez pivotingu): [ 2.  3. -1.]\n"
     ]
    }
   ],
   "source": [
    "A = [[2, 1, -1], [-3, -1, 2], [-2, 1, 2]]\n",
    "b = [8, -11, -3]\n",
    "\n",
    "x = gauss_elimination_no_pivoting(A, b)\n",
    "print(\"Rozwiązanie (bez pivotingu):\", x)"
   ]
  },
  {
   "cell_type": "code",
   "execution_count": 26,
   "id": "c0577d65",
   "metadata": {},
   "outputs": [],
   "source": [
    "def gauss_elimination_pivoting(A, b):\n",
    "    \"\"\"\n",
    "    Rozwiązuje układ równań Ax = b za pomocą eliminacji Gaussa z częściowym pivotingiem.\n",
    "\n",
    "    Parametry:\n",
    "    A -- macierz współczynników (n x n)\n",
    "    b -- wektor prawych stron (n)\n",
    "\n",
    "    Zwraca:\n",
    "    x -- wektor rozwiązania\n",
    "    \"\"\"\n",
    "    n = len(A)\n",
    "    A = np.array(A, dtype=float)\n",
    "    b = np.array(b, dtype=float)\n",
    "\n",
    "    for k in range(n - 1):\n",
    "        # --- Częściowy pivoting: wybór wiersza z maksymalnym elementem w kolumnie k ---\n",
    "        max_row = (\n",
    "            np.argmax(np.abs(A[k:, k])) + k\n",
    "        )  # Indeks wiersza z maksymalną wartością |A[i,k]|\n",
    "        if A[max_row, k] == 0:\n",
    "            raise ValueError(\"Macierz osobliwa - brak rozwiązania!\")\n",
    "\n",
    "        # Zamiana wierszy, jeśli konieczne\n",
    "        if max_row != k:\n",
    "            A[[k, max_row]] = A[[max_row, k]]  # Zamiana wierszy w A\n",
    "            b[k], b[max_row] = b[max_row], b[k]  # Zamiana elementów w b\n",
    "\n",
    "        # --- Eliminacja współczynników pod przekątną ---\n",
    "        for i in range(k + 1, n):\n",
    "            factor = A[i, k] / A[k, k]\n",
    "            A[i, k:] -= factor * A[k, k:]\n",
    "            b[i] -= factor * b[k]\n",
    "\n",
    "    # --- Rozwiązanie układu równań (wsteczna substytucja) ---\n",
    "    x = np.zeros(n)\n",
    "    for i in range(n - 1, -1, -1):\n",
    "        if A[i, i] == 0:\n",
    "            raise ValueError(\"Macierz osobliwa - brak rozwiązania!\")\n",
    "        x[i] = (b[i] - np.dot(A[i, i + 1 :], x[i + 1 :])) / A[i, i]\n",
    "\n",
    "    return x"
   ]
  },
  {
   "cell_type": "code",
   "execution_count": 27,
   "id": "16e0450f",
   "metadata": {},
   "outputs": [
    {
     "name": "stdout",
     "output_type": "stream",
     "text": [
      "Rozwiązanie (z pivotingu): [ 2.  3. -1.]\n"
     ]
    }
   ],
   "source": [
    "A = [[2, 1, -1], [-3, -1, 2], [-2, 1, 2]]\n",
    "b = [8, -11, -3]\n",
    "\n",
    "x = gauss_elimination_pivoting(A, b)\n",
    "print(\"Rozwiązanie (z pivotingu):\", x)"
   ]
  },
  {
   "cell_type": "code",
   "execution_count": 35,
   "id": "00aafd82",
   "metadata": {},
   "outputs": [],
   "source": [
    "import time\n",
    "\n",
    "N = 24\n",
    "A = np.random.rand(N, N)\n",
    "b = np.random.rand(N)\n",
    "\n",
    "times = {}\n",
    "\n",
    "for method in [\"gauss_no_pivoting\", \"gauss_pivoting\", \"lu_decomposition\", \"lu_decomposition_pivoting\"]:\n",
    "    start_time = time.time()\n",
    "    if method == \"gauss_no_pivoting\":\n",
    "        gauss_elimination_no_pivoting(A, b)\n",
    "    elif method == \"gauss_pivoting\":\n",
    "        gauss_elimination_pivoting(A, b)\n",
    "    elif method == \"lu_decomposition\":\n",
    "        solve_lu(A, b, pivoting=False)\n",
    "    elif method == \"lu_decomposition_pivoting\":\n",
    "        solve_lu(A, b, pivoting=False)\n",
    "    end_time = time.time()\n",
    "    times[method] = end_time - start_time"
   ]
  },
  {
   "cell_type": "code",
   "execution_count": 36,
   "id": "b3931126",
   "metadata": {},
   "outputs": [
    {
     "data": {
      "text/plain": [
       "{'gauss_no_pivoting': 0.0012094974517822266,\n",
       " 'gauss_pivoting': 0.0017054080963134766,\n",
       " 'lu_decomposition': 0.0007917881011962891,\n",
       " 'lu_decomposition_pivoting': 0.0012519359588623047}"
      ]
     },
     "execution_count": 36,
     "metadata": {},
     "output_type": "execute_result"
    }
   ],
   "source": [
    "times"
   ]
  }
 ],
 "metadata": {
  "kernelspec": {
   "display_name": "Python 3",
   "language": "python",
   "name": "python3"
  },
  "language_info": {
   "codemirror_mode": {
    "name": "ipython",
    "version": 3
   },
   "file_extension": ".py",
   "mimetype": "text/x-python",
   "name": "python",
   "nbconvert_exporter": "python",
   "pygments_lexer": "ipython3",
   "version": "3.13.2"
  }
 },
 "nbformat": 4,
 "nbformat_minor": 5
}

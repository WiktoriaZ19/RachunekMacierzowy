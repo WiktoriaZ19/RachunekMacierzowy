{
 "cells": [
  {
   "cell_type": "code",
   "execution_count": 50,
   "id": "8ed83b9e-2e39-4392-8b6e-7b43559588cd",
   "metadata": {},
   "outputs": [],
   "source": [
    "import numpy as np"
   ]
  },
  {
   "cell_type": "code",
   "execution_count": 51,
   "id": "bc6b7674-c0bd-4a73-918f-78cccb84292a",
   "metadata": {},
   "outputs": [],
   "source": [
    "def lu_decomposition(A, pivoting=False):\n",
    "    A = np.array(A, dtype=float)\n",
    "    n = A.shape[0]\n",
    "    # Macierz permutacyjna – początkowo jednostkowa\n",
    "    P = np.eye(n)\n",
    "    # Macierz dolnotrójkątna – początkowo jednostkowa\n",
    "    L = np.eye(n)\n",
    "    # Kopia A, bo będziemy modyfikować U\n",
    "    U = A.copy()\n",
    "\n",
    "    for i in range(n):\n",
    "        if pivoting:\n",
    "            # Znalezienie indeksu największego elementu w aktualnej kolumnie poniżej przekątnej\n",
    "            max_index = np.argmax(abs(U[i:, i])) + i\n",
    "\n",
    "            # Zamiana wierszy\n",
    "            if max_index != i:\n",
    "                U[[i, max_index]] = U[[max_index, i]]\n",
    "                P[[i, max_index]] = P[[max_index, i]]\n",
    "                if i > 0:  # Zamiana tylko wcześniejszych kolumn w L\n",
    "                    L[[i, max_index], :i] = L[[max_index, i], :i]\n",
    "\n",
    "        for j in range(i + 1, n):\n",
    "            # Obliczenie współczynnika eliminacji\n",
    "            L[j, i] = U[j, i] / U[i, i]\n",
    "            # Aktualizacja macierzy U\n",
    "            U[j, i:] -= L[j, i] * U[i, i:]\n",
    "\n",
    "    if pivoting:\n",
    "        return P, L, U\n",
    "    else:\n",
    "        return L, U"
   ]
  },
  {
   "cell_type": "code",
   "execution_count": 52,
   "id": "dfa0ac2d",
   "metadata": {},
   "outputs": [],
   "source": [
    "def solve_lu(A, b, pivoting=False):\n",
    "    b = np.array(b, dtype=float)\n",
    "    if pivoting:\n",
    "        P, L, U = lu_decomposition(A, pivoting=True)\n",
    "        b = np.dot(P, b)\n",
    "    else:\n",
    "        L, U = lu_decomposition(A, pivoting=False)\n",
    "\n",
    "    # Rozwiązanie Lc = b (podstawianie w przód)\n",
    "    n = len(b)\n",
    "    c = np.zeros(n)\n",
    "    for i in range(n):\n",
    "        c[i] = b[i] - np.dot(L[i, :i], c[:i])\n",
    "\n",
    "    # Rozwiązanie Ux = c (podstawianie wstecz)\n",
    "    x = np.zeros(n)\n",
    "    for i in range(n - 1, -1, -1):\n",
    "        x[i] = (c[i] - np.dot(U[i, i + 1 :], x[i + 1 :])) / U[i, i]\n",
    "\n",
    "    return x"
   ]
  },
  {
   "cell_type": "code",
   "execution_count": 53,
   "id": "2b562d8b",
   "metadata": {},
   "outputs": [
    {
     "name": "stdout",
     "output_type": "stream",
     "text": [
      "Rozwiązanie układu równań (LU bez pivotingu): [ 2.  3. -1.]\n",
      "Rozwiązanie układu równań (LU z pivotingiem): [ 2.  3. -1.]\n"
     ]
    }
   ],
   "source": [
    "A = np.array([[2, 1, -1], [-3, -1, 2], [-2, 1, 2]])\n",
    "b = np.array([8, -11, -3])\n",
    "\n",
    "x = solve_lu(A, b, pivoting=False)\n",
    "print(\"Rozwiązanie układu równań (LU bez pivotingu):\", x)\n",
    "\n",
    "x = solve_lu(A, b, pivoting=True)\n",
    "print(\"Rozwiązanie układu równań (LU z pivotingiem):\", x)"
   ]
  },
  {
   "cell_type": "code",
   "execution_count": 54,
   "id": "b46360b2-c16c-479e-bc2a-4d9c1f20b6bd",
   "metadata": {},
   "outputs": [],
   "source": [
    "def gauss_elimination_no_pivoting(A, b):\n",
    "    \"\"\"\n",
    "    Rozwiązuje układ równań Ax = b za pomocą eliminacji Gaussa bez pivotingu,\n",
    "    generując jedynki na przekątnej.\n",
    "\n",
    "    Parametry:\n",
    "    A -- macierz współczynników (n x n)\n",
    "    b -- wektor prawych stron (n)\n",
    "\n",
    "    Zwraca:\n",
    "    x -- wektor rozwiązania\n",
    "    \"\"\"\n",
    "    n = len(A)\n",
    "    A = np.array(\n",
    "        A, dtype=float\n",
    "    )  # Konwersja na float, aby uniknąć dzielenia całkowitego\n",
    "    b = np.array(b, dtype=float)\n",
    "\n",
    "    # --- Eliminacja współczynników pod przekątną ---\n",
    "    for k in range(n - 1):  # Dla każdej kolumny (oprócz ostatniej)\n",
    "        for i in range(k + 1, n):  # Dla każdego wiersza poniżej przekątnej\n",
    "            if A[k, k] == 0:\n",
    "                raise ZeroDivisionError(\n",
    "                    \"Wystąpiło dzielenie przez zero. Użyj pivotingu!\"\n",
    "                )\n",
    "            factor = A[i, k] / A[k, k]\n",
    "            A[i, k:] -= factor * A[k, k:]  # Aktualizacja wiersza i-tego\n",
    "            b[i] -= factor * b[k]\n",
    "\n",
    "    # --- Normalizacja, aby uzyskać jedynki na przekątnej ---\n",
    "    for k in range(n):\n",
    "        divisor = A[k, k]\n",
    "        if divisor == 0:\n",
    "            raise ZeroDivisionError(\"Macierz osobliwa - brak rozwiązania!\")\n",
    "        A[k, k:] /= divisor  # Normalizacja wiersza\n",
    "        b[k] /= divisor\n",
    "\n",
    "    # --- Rozwiązanie układu równań (wsteczna substytucja) ---\n",
    "    x = np.zeros(n)\n",
    "    for i in range(n - 1, -1, -1):\n",
    "        x[i] = b[i] - np.dot(A[i, i + 1 :], x[i + 1 :])\n",
    "\n",
    "    return x"
   ]
  },
  {
   "cell_type": "code",
   "execution_count": 55,
   "id": "17566d08",
   "metadata": {},
   "outputs": [
    {
     "name": "stdout",
     "output_type": "stream",
     "text": [
      "Rozwiązanie (bez pivotingu): [ 2.  3. -1.]\n"
     ]
    }
   ],
   "source": [
    "A = [[2, 1, -1], [-3, -1, 2], [-2, 1, 2]]\n",
    "b = [8, -11, -3]\n",
    "\n",
    "x = gauss_elimination_no_pivoting(A, b)\n",
    "print(\"Rozwiązanie (bez pivotingu):\", x)"
   ]
  },
  {
   "cell_type": "code",
   "execution_count": 56,
   "id": "c0577d65",
   "metadata": {},
   "outputs": [],
   "source": [
    "def gauss_elimination_pivoting(A, b):\n",
    "    \"\"\"\n",
    "    Rozwiązuje układ równań Ax = b za pomocą eliminacji Gaussa z częściowym pivotingiem.\n",
    "\n",
    "    Parametry:\n",
    "    A -- macierz współczynników (n x n)\n",
    "    b -- wektor prawych stron (n)\n",
    "\n",
    "    Zwraca:\n",
    "    x -- wektor rozwiązania\n",
    "    \"\"\"\n",
    "    n = len(A)\n",
    "    A = np.array(A, dtype=float)\n",
    "    b = np.array(b, dtype=float)\n",
    "\n",
    "    for k in range(n - 1):\n",
    "        # --- Częściowy pivoting: wybór wiersza z maksymalnym elementem w kolumnie k ---\n",
    "        max_row = (\n",
    "            np.argmax(np.abs(A[k:, k])) + k\n",
    "        )  # Indeks wiersza z maksymalną wartością |A[i,k]|\n",
    "        if A[max_row, k] == 0:\n",
    "            raise ValueError(\"Macierz osobliwa - brak rozwiązania!\")\n",
    "\n",
    "        # Zamiana wierszy, jeśli konieczne\n",
    "        if max_row != k:\n",
    "            A[[k, max_row]] = A[[max_row, k]]  # Zamiana wierszy w A\n",
    "            b[k], b[max_row] = b[max_row], b[k]  # Zamiana elementów w b\n",
    "\n",
    "        # --- Eliminacja współczynników pod przekątną ---\n",
    "        for i in range(k + 1, n):\n",
    "            factor = A[i, k] / A[k, k]\n",
    "            A[i, k:] -= factor * A[k, k:]\n",
    "            b[i] -= factor * b[k]\n",
    "\n",
    "    # --- Rozwiązanie układu równań (wsteczna substytucja) ---\n",
    "    x = np.zeros(n)\n",
    "    for i in range(n - 1, -1, -1):\n",
    "        if A[i, i] == 0:\n",
    "            raise ValueError(\"Macierz osobliwa - brak rozwiązania!\")\n",
    "        x[i] = (b[i] - np.dot(A[i, i + 1 :], x[i + 1 :])) / A[i, i]\n",
    "\n",
    "    return x"
   ]
  },
  {
   "cell_type": "code",
   "execution_count": 57,
   "id": "16e0450f",
   "metadata": {},
   "outputs": [
    {
     "name": "stdout",
     "output_type": "stream",
     "text": [
      "Rozwiązanie (z pivotingu): [ 2.  3. -1.]\n"
     ]
    }
   ],
   "source": [
    "A = [[2, 1, -1], [-3, -1, 2], [-2, 1, 2]]\n",
    "b = [8, -11, -3]\n",
    "\n",
    "x = gauss_elimination_pivoting(A, b)\n",
    "print(\"Rozwiązanie (z pivotingu):\", x)"
   ]
  },
  {
   "cell_type": "code",
   "execution_count": 135,
   "id": "29a78ef0",
   "metadata": {},
   "outputs": [],
   "source": [
    "import random\n",
    "\n",
    "random.seed(11)\n",
    "N = 24\n",
    "\n",
    "\n",
    "A = np.random.rand(N, N)\n",
    "\n",
    "\n",
    "b = np.random.rand(N)\n",
    "data_pivot_lu = []\n",
    "data_lu = []\n",
    "data_gauss_pivot = []\n",
    "data_gauss = []"
   ]
  },
  {
   "cell_type": "code",
   "execution_count": 132,
   "id": "00aafd82",
   "metadata": {},
   "outputs": [
    {
     "name": "stdout",
     "output_type": "stream",
     "text": [
      "Result of gauss_no_pivoting is:\n",
      " [-0.18101891 -0.68700404  0.64233127  0.30525541 -0.10566096  0.89374581\n",
      " -0.1566481   0.15189843  0.80275771 -0.40904598 -0.65238046  0.13915273\n",
      "  0.44790961  0.56531827  0.12318038  0.014609   -0.33266451  0.11940996\n",
      "  0.16300516  0.06760069 -0.64152707  0.20197621 -0.64988323  0.00585475]\n",
      "\n",
      "Result of gauss_pivoting is:\n",
      " [-0.18101891 -0.68700404  0.64233127  0.30525541 -0.10566096  0.89374581\n",
      " -0.1566481   0.15189843  0.80275771 -0.40904598 -0.65238046  0.13915273\n",
      "  0.44790961  0.56531827  0.12318038  0.014609   -0.33266451  0.11940996\n",
      "  0.16300516  0.06760069 -0.64152707  0.20197621 -0.64988323  0.00585475]\n",
      "\n",
      "Result of lu_decomposition is:\n",
      " [-0.18101891 -0.68700404  0.64233127  0.30525541 -0.10566096  0.89374581\n",
      " -0.1566481   0.15189843  0.80275771 -0.40904598 -0.65238046  0.13915273\n",
      "  0.44790961  0.56531827  0.12318038  0.014609   -0.33266451  0.11940996\n",
      "  0.16300516  0.06760069 -0.64152707  0.20197621 -0.64988323  0.00585475]\n",
      "\n",
      "Result of lu_decomposition_pivoting is:\n",
      " [-0.18101891 -0.68700404  0.64233127  0.30525541 -0.10566096  0.89374581\n",
      " -0.1566481   0.15189843  0.80275771 -0.40904598 -0.65238046  0.13915273\n",
      "  0.44790961  0.56531827  0.12318038  0.014609   -0.33266451  0.11940996\n",
      "  0.16300516  0.06760069 -0.64152707  0.20197621 -0.64988323  0.00585475]\n",
      "\n"
     ]
    }
   ],
   "source": [
    "import time\n",
    "\n",
    "\n",
    "times = {}\n",
    "\n",
    "\n",
    "for method in [\n",
    "    \"gauss_no_pivoting\",\n",
    "    \"gauss_pivoting\",\n",
    "    \"lu_decomposition\",\n",
    "    \"lu_decomposition_pivoting\",\n",
    "]:\n",
    "\n",
    "    if method == \"gauss_no_pivoting\":\n",
    "        start_time = time.time()\n",
    "        result = gauss_elimination_no_pivoting(A, b)\n",
    "        end_time = time.time()\n",
    "        data_gauss.append([end_time - start_time])\n",
    "\n",
    "    elif method == \"gauss_pivoting\":\n",
    "        start_time = time.time()\n",
    "        result = gauss_elimination_pivoting(A, b)\n",
    "        end_time = time.time()\n",
    "        data_gauss_pivot.append([end_time - start_time])\n",
    "\n",
    "    elif method == \"lu_decomposition\":\n",
    "        start_time = time.time()\n",
    "        result = solve_lu(A, b, pivoting=False)\n",
    "        end_time = time.time()\n",
    "        data_lu.append([end_time - start_time])\n",
    "    elif method == \"lu_decomposition_pivoting\":\n",
    "        start_time = time.time()\n",
    "        result = solve_lu(A, b, pivoting=True)\n",
    "        end_time = time.time()\n",
    "        data_pivot_lu.append([end_time - start_time])\n",
    "    print(f\"Result of {method} is:\\n {result}\\n\")"
   ]
  },
  {
   "cell_type": "code",
   "execution_count": 62,
   "id": "b3931126",
   "metadata": {},
   "outputs": [
    {
     "data": {
      "text/plain": [
       "{'gauss_no_pivoting': 0.004002809524536133,\n",
       " 'gauss_pivoting': 0.005998134613037109,\n",
       " 'lu_decomposition': 0.00400090217590332,\n",
       " 'lu_decomposition_pivoting': 0.008012771606445312}"
      ]
     },
     "execution_count": 62,
     "metadata": {},
     "output_type": "execute_result"
    }
   ],
   "source": [
    "times"
   ]
  },
  {
   "cell_type": "code",
   "execution_count": 138,
   "id": "9a389506",
   "metadata": {},
   "outputs": [],
   "source": [
    "for _ in range(10000):\n",
    "    for method in [\n",
    "        \"gauss_no_pivoting\",\n",
    "        \"gauss_pivoting\",\n",
    "        \"lu_decomposition\",\n",
    "        \"lu_decomposition_pivoting\",\n",
    "    ]:\n",
    "\n",
    "        if method == \"gauss_no_pivoting\":\n",
    "            start_time = time.time()\n",
    "            result = gauss_elimination_no_pivoting(A, b)\n",
    "            end_time = time.time()\n",
    "            data_gauss.append([end_time - start_time])\n",
    "\n",
    "        elif method == \"gauss_pivoting\":\n",
    "            start_time = time.time()\n",
    "            result = gauss_elimination_pivoting(A, b)\n",
    "            end_time = time.time()\n",
    "            data_gauss_pivot.append([end_time - start_time])\n",
    "\n",
    "        elif method == \"lu_decomposition\":\n",
    "            start_time = time.time()\n",
    "            result = solve_lu(A, b, pivoting=False)\n",
    "            end_time = time.time()\n",
    "            data_lu.append([end_time - start_time])\n",
    "        elif method == \"lu_decomposition_pivoting\":\n",
    "            start_time = time.time()\n",
    "            result = solve_lu(A, b, pivoting=True)\n",
    "            end_time = time.time()\n",
    "            data_pivot_lu.append([end_time - start_time])"
   ]
  },
  {
   "cell_type": "code",
   "execution_count": 139,
   "id": "38b45691",
   "metadata": {},
   "outputs": [
    {
     "name": "stderr",
     "output_type": "stream",
     "text": [
      "C:\\Users\\admin\\AppData\\Local\\Temp\\ipykernel_29452\\2051458550.py:4: MatplotlibDeprecationWarning: The 'labels' parameter of boxplot() has been renamed 'tick_labels' since Matplotlib 3.9; support for the old name will be dropped in 3.11.\n",
      "  plt.boxplot(\n"
     ]
    },
    {
     "data": {
      "text/plain": [
       "{'whiskers': [<matplotlib.lines.Line2D at 0x1d284456480>,\n",
       "  <matplotlib.lines.Line2D at 0x1d284456cf0>,\n",
       "  <matplotlib.lines.Line2D at 0x1d284454fb0>,\n",
       "  <matplotlib.lines.Line2D at 0x1d284455430>,\n",
       "  <matplotlib.lines.Line2D at 0x1d284457980>,\n",
       "  <matplotlib.lines.Line2D at 0x1d284457cb0>,\n",
       "  <matplotlib.lines.Line2D at 0x1d284459880>,\n",
       "  <matplotlib.lines.Line2D at 0x1d284459af0>],\n",
       " 'caps': [<matplotlib.lines.Line2D at 0x1d284454050>,\n",
       "  <matplotlib.lines.Line2D at 0x1d284454350>,\n",
       "  <matplotlib.lines.Line2D at 0x1d284455760>,\n",
       "  <matplotlib.lines.Line2D at 0x1d284455b50>,\n",
       "  <matplotlib.lines.Line2D at 0x1d284458050>,\n",
       "  <matplotlib.lines.Line2D at 0x1d2844583b0>,\n",
       "  <matplotlib.lines.Line2D at 0x1d284459df0>,\n",
       "  <matplotlib.lines.Line2D at 0x1d28445a0c0>],\n",
       " 'boxes': [<matplotlib.lines.Line2D at 0x1d284456030>,\n",
       "  <matplotlib.lines.Line2D at 0x1d284454c80>,\n",
       "  <matplotlib.lines.Line2D at 0x1d2844575c0>,\n",
       "  <matplotlib.lines.Line2D at 0x1d2844595e0>],\n",
       " 'medians': [<matplotlib.lines.Line2D at 0x1d284454650>,\n",
       "  <matplotlib.lines.Line2D at 0x1d2844569f0>,\n",
       "  <matplotlib.lines.Line2D at 0x1d284459040>,\n",
       "  <matplotlib.lines.Line2D at 0x1d28445a3c0>],\n",
       " 'fliers': [<matplotlib.lines.Line2D at 0x1d284454980>,\n",
       "  <matplotlib.lines.Line2D at 0x1d2844572f0>,\n",
       "  <matplotlib.lines.Line2D at 0x1d2844592e0>,\n",
       "  <matplotlib.lines.Line2D at 0x1d28445a630>],\n",
       " 'means': []}"
      ]
     },
     "execution_count": 139,
     "metadata": {},
     "output_type": "execute_result"
    },
    {
     "data": {
      "image/png": "[encoded data removed]",
      "text/plain": [
       "<Figure size 640x480 with 1 Axes>"
      ]
     },
     "metadata": {},
     "output_type": "display_data"
    }
   ],
   "source": [
    "import matplotlib.pyplot as plt\n",
    "\n",
    "\n",
    "plt.boxplot(\n",
    "    [\n",
    "        np.array(data_lu).reshape(1, -1)[0],\n",
    "        np.array(data_pivot_lu).reshape(1, -1)[0],\n",
    "        np.array(data_gauss).reshape(1, -1)[0],\n",
    "        np.array(data_gauss_pivot).reshape(1, -1)[0],\n",
    "    ],\n",
    "    labels=[\"LU\", \"LU_PIVOT\", \"GAUSS\", \"GAUSS_PIVOT\"],\n",
    ")"
   ]
  },
  {
   "cell_type": "code",
   "execution_count": 140,
   "id": "ef2329ed",
   "metadata": {},
   "outputs": [
    {
     "name": "stderr",
     "output_type": "stream",
     "text": [
      "C:\\Users\\admin\\AppData\\Local\\Temp\\ipykernel_29452\\2739259366.py:1: MatplotlibDeprecationWarning: The 'labels' parameter of boxplot() has been renamed 'tick_labels' since Matplotlib 3.9; support for the old name will be dropped in 3.11.\n",
      "  plt.boxplot(\n"
     ]
    },
    {
     "data": {
      "text/plain": [
       "{'whiskers': [<matplotlib.lines.Line2D at 0x1d285196ae0>,\n",
       "  <matplotlib.lines.Line2D at 0x1d285196d80>,\n",
       "  <matplotlib.lines.Line2D at 0x1d285197ec0>,\n",
       "  <matplotlib.lines.Line2D at 0x1d2851c0110>],\n",
       " 'caps': [<matplotlib.lines.Line2D at 0x1d285195c10>,\n",
       "  <matplotlib.lines.Line2D at 0x1d285197230>,\n",
       "  <matplotlib.lines.Line2D at 0x1d2851c0410>,\n",
       "  <matplotlib.lines.Line2D at 0x1d2851c06b0>],\n",
       " 'boxes': [<matplotlib.lines.Line2D at 0x1d285196870>,\n",
       "  <matplotlib.lines.Line2D at 0x1d285197b90>],\n",
       " 'medians': [<matplotlib.lines.Line2D at 0x1d285197560>,\n",
       "  <matplotlib.lines.Line2D at 0x1d2851c0950>],\n",
       " 'fliers': [<matplotlib.lines.Line2D at 0x1d285197890>,\n",
       "  <matplotlib.lines.Line2D at 0x1d2851c0bc0>],\n",
       " 'means': []}"
      ]
     },
     "execution_count": 140,
     "metadata": {},
     "output_type": "execute_result"
    },
    {
     "data": {
      "image/png": "[encoded data removed]",
      "text/plain": [
       "<Figure size 640x480 with 1 Axes>"
      ]
     },
     "metadata": {},
     "output_type": "display_data"
    }
   ],
   "source": [
    "plt.boxplot(\n",
    "    [\n",
    "        np.array(data_lu).reshape(1, -1)[0],\n",
    "        np.array(data_gauss).reshape(1, -1)[0],\n",
    "    ],\n",
    "    labels=[\"LU\", \"GAUSS\"],\n",
    ")"
   ]
  }
 ],
 "metadata": {
  "kernelspec": {
   "display_name": "Python 3",
   "language": "python",
   "name": "python3"
  },
  "language_info": {
   "codemirror_mode": {
    "name": "ipython",
    "version": 3
   },
   "file_extension": ".py",
   "mimetype": "text/x-python",
   "name": "python",
   "nbconvert_exporter": "python",
   "pygments_lexer": "ipython3",
   "version": "3.13.2"
  }
 },
 "nbformat": 4,
 "nbformat_minor": 5
}

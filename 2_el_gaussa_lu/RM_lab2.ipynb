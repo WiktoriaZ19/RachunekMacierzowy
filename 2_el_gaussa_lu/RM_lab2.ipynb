{
 "cells": [
  {
   "cell_type": "code",
   "execution_count": 1,
   "id": "8ed83b9e-2e39-4392-8b6e-7b43559588cd",
   "metadata": {},
   "outputs": [],
   "source": [
    "import numpy as np"
   ]
  },
  {
   "cell_type": "code",
   "execution_count": 2,
   "id": "bc6b7674-c0bd-4a73-918f-78cccb84292a",
   "metadata": {},
   "outputs": [],
   "source": [
    "def lu_decomposition(A, pivoting=False):\n",
    "    n = A.shape[0]\n",
    "    # Macierz permutacyjna – początkowo jednostkowa\n",
    "    P = np.eye(n)\n",
    "    # Macierz dolnotrójkątna – początkowo jednostkowa\n",
    "    L = np.eye(n) \n",
    "    # Kopia A, bo będziemy modyfikować U\n",
    "    U = A.copy()\n",
    "\n",
    "    for i in range(n):\n",
    "        if pivoting:\n",
    "            # Znalezienie indeksu największego elementu w aktualnej kolumnie poniżej przekątnej\n",
    "            max_index = np.argmax(abs(U[i:, i])) + i\n",
    "\n",
    "            # Zamiana wierszy\n",
    "            if max_index != i:\n",
    "                U[[i, max_index]] = U[[max_index, i]]\n",
    "                P[[i, max_index]] = P[[max_index, i]]\n",
    "                if i > 0:  # Zamiana tylko wcześniejszych kolumn w L\n",
    "                    L[[i, max_index], :i] = L[[max_index, i], :i]\n",
    "\n",
    "        for j in range(i+1, n):\n",
    "            # Obliczenie współczynnika eliminacji\n",
    "            L[j, i] = U[j, i] / U[i, i]\n",
    "            # Aktualizacja macierzy U\n",
    "            U[j, i:] -= L[j, i] * U[i, i:]\n",
    "\n",
    "    if pivoting:\n",
    "        return P, L, U\n",
    "    else:\n",
    "        return L, U"
   ]
  },
  {
   "cell_type": "code",
   "execution_count": null,
   "id": "b46360b2-c16c-479e-bc2a-4d9c1f20b6bd",
   "metadata": {},
   "outputs": [],
   "source": []
  }
 ],
 "metadata": {
  "kernelspec": {
   "display_name": "Python 3 (ipykernel)",
   "language": "python",
   "name": "python3"
  },
  "language_info": {
   "codemirror_mode": {
    "name": "ipython",
    "version": 3
   },
   "file_extension": ".py",
   "mimetype": "text/x-python",
   "name": "python",
   "nbconvert_exporter": "python",
   "pygments_lexer": "ipython3",
   "version": "3.13.2"
  }
 },
 "nbformat": 4,
 "nbformat_minor": 5
}
